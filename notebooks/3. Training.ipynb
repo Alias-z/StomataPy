{
 "cells": [
  {
   "cell_type": "markdown",
   "metadata": {
    "id": "U3MaS_6MYjGC"
   },
   "source": [
    "# **StomataPy - training**\n",
    "\n",
    "Contact: hongyuan.zhang@usys.ethz.ch\n",
    "\n",
    "The file structure:\n",
    "```\n",
    "├── StomataPy (the root directory)\n",
    "    ├── Stomata_detection (data for object detection)\n",
    "    ├── Stomata_segmentation (data for semantic segmentation)\n",
    "    ├── train (config files for training)\n",
    "    ├── Training.ipynb (the file you are running now)\n",
    "```\n",
    "There will be one point you need to run `export PYTHONPATH=$PYTHONPATH:/StomataPy/mmsegmentation`, change the `StomataPy` to your `root_dir`"
   ]
  },
  {
   "cell_type": "markdown",
   "metadata": {},
   "source": [
    "# Data preparation"
   ]
  },
  {
   "cell_type": "code",
   "execution_count": 1,
   "metadata": {},
   "outputs": [
    {
     "name": "stdout",
     "output_type": "stream",
     "text": [
      "c:\\Users\\Charl\\OneDrive\\Academics\\2023 ETH\\Projects\\PhD thesis\\StomataPy\n"
     ]
    }
   ],
   "source": [
    "%cd .."
   ]
  },
  {
   "cell_type": "code",
   "execution_count": 1,
   "metadata": {},
   "outputs": [
    {
     "name": "stderr",
     "output_type": "stream",
     "text": [
      "c:\\Users\\Charl\\OneDrive\\Academics\\2023 ETH\\Projects\\PhD thesis\\StomataPy\\stomatapy\\utils\\data_statistics.py:167: FutureWarning: The behavior of DataFrame concatenation with empty or all-NA entries is deprecated. In a future version, this will no longer exclude empty or all-NA columns when determining the result dtypes. To retain the old behavior, exclude the relevant entries before the concat operation.\n",
      "  results = pd.concat([results, pd.DataFrame([result])], axis=0)  # concatenate all results\n"
     ]
    },
    {
     "name": "stdout",
     "output_type": "stream",
     "text": [
      "Total masks: 38837, 17279 (44.49 %) out of which is autolabeled\n",
      "Category counts: {'pavement cell': 32755, 'stoma': 2976, 'stomatal complex': 2242, 'outer ledge': 864}\n",
      "slected datasets: ['Vofely2019 - D. californica', 'Vofely2019 - D. californica', 'Vofely2019 - B. setifera', 'Fetter2019 - D. piperita', 'Fetter2019 - R. darienensis', 'Fetter2019 - O. marmellensis', 'Fetter2019 - S. repens', 'Vofely2019 - E. pulcherrima', 'Vofely2019 - C. mirabilis', 'Vofely2019 - C. mirabilis', 'Vofely2019 - C. mirabilis', 'Vofely2019 - C. mirabilis', 'Vofely2019 - C. mirabilis', 'Vofely2019 - C. mirabilis', 'Fetter2019 - P. polyphleba', 'Fetter2019 - S. mukorossi', 'Fetter2019 - C. tepejilote', 'Vofely2019 - D. bulbifera', 'Vofely2019 - D. bulbifera', 'Fetter2019 - K. strobilina', 'Fetter2019 - C. crinita', 'Fetter2019 - C. crinita', 'Fetter2019 - C. crinita', 'Vofely2019 - G. biloba', 'Fetter2019 - E. sasythrasa', 'Fetter2019 - A. impressa', 'Fetter2019 - Q. angustifolia', 'Fetter2019 - S. glomeruliflora', 'Fetter2019 - M. ramentacea', 'Fetter2019 - P. selloum', 'Fetter2019 - O. atirrensis', 'Fetter2019 - R. borealis', 'Fetter2019 - T. pulverulentum', 'Fetter2019 - T. cerasina', 'Vofely2019 - G. odoratum', 'Vofely2019 - G. odoratum', 'Vofely2019 - G. odoratum', 'Fetter2019 - C. cataractarum', 'Vofely2019 - C. marnierana', 'Vofely2019 - E. pallescens', 'Vofely2019 - C. palmata', 'Vofely2019 - B. fruticosum', 'Fetter2019 - A. pygmaea', 'Fetter2019 - V. guianensis', 'Fetter2019 - O. pretiosa', 'Fetter2019 - C. lamontii', 'Fetter2019 - T. tuberculata', 'Fetter2019 - N. smithii', 'Fetter2019 - P. salicifolia', 'Vofely2019 - C. ruber', 'Vofely2019 - C. ruber', 'Vofely2019 - C. ruber', 'Vofely2019 - C. ruber', 'Vofely2019 - C. ruber', 'Fetter2019 - O. caudata', 'Fetter2019 - T. pinnatum', 'Vofely2019 - C. cuspidatus', 'Vofely2019 - C. cuspidatus', 'Vofely2019 - C. cuspidatus', 'Fetter2019 - P. tweedieanum', 'Vofely2019 - A. aurea', 'Vofely2019 - A. aurea', 'Vofely2019 - A. aurea', 'Vofely2019 - A. aurea', 'Vofely2019 - A. aurea', 'Vofely2019 - A. aurea', 'Fetter2019 - G. glomerulata', 'Fetter2019 - M. apetala', 'Vofely2019 - B. suaveolens', 'Fetter2019 - R. cubana', 'Fetter2019 - P. latifolia_(Picramnia)', 'Vofely2019 - E. latifolius', 'Vofely2019 - E. latifolius', 'Fetter2019 - O. eggersiana', 'Fetter2019 - A. brachycarpa', 'Fetter2019 - Chamaedorea sp', 'Fetter2019 - S. thelocarpum', 'Fetter2019 - P. undulatum', 'Fetter2019 - A. globiflora', 'Fetter2019 - A. globiflora', 'Fetter2019 - G. bijuga', 'Fetter2019 - P. auritum', 'Fetter2019 - P. auritum', 'Fetter2019 - O. abyssinica', 'Fetter2019 - Q. corrugata', 'Fetter2019 - C. quezalteca', 'Fetter2019 - O. lanceolata', 'Fetter2019 - T. candolleana', 'Vofely2019 - C. minus', 'Vofely2019 - C. minus', 'Vofely2019 - C. minus', 'Fetter2019 - S. terebinthifolius', 'Fetter2019 - P. carpinterae', 'Fetter2019 - P. carpinterae', 'Fetter2019 - M. denticulata', 'Vofely2019 - C. miniata', 'Fetter2019 - S. serrulata', 'Vofely2019 - A. sisalana', 'Vofely2019 - A. sisalana', 'Fetter2019 - Q. ellipsoidalis', 'Fetter2019 - S. multiflorum', 'Fetter2019 - A. dugandii', 'Vofely2019 - C. longa', 'Vofely2019 - C. longa', 'Vofely2019 - C. longa', 'Fetter2019 - C. icaco', 'Fetter2019 - C. icaco', 'Vofely2019 - E. volubilis', 'Vofely2019 - E. volubilis', 'Vofely2019 - E. volubilis', 'Vofely2019 - E. volubilis', 'Fetter2019 - O. glaziovii', 'Vofely2019 - A. canadensis', 'Vofely2019 - A. canadensis', 'Vofely2019 - A. canadensis', 'Vofely2019 - A. canadensis', 'Vofely2019 - A. canadensis', 'Vofely2019 - A. spinosus', 'Vofely2019 - A. spinosus', 'Vofely2019 - A. spinosus', 'Vofely2019 - A. spinosus', 'Vofely2019 - A. spinosus', 'Vofely2019 - A. spinosus', 'Vofely2019 - A. spinosus', 'Vofely2019 - A. spinosus', 'Vofely2019 - A. spinosus', 'Vofely2019 - A. spinosus', 'Vofely2019 - A. spinosus', 'Fetter2019 - S. cedron', 'Vofely2019 - Adromischus sp', 'Vofely2019 - Adromischus sp', 'Fetter2019 - R. nitida', 'Fetter2019 - L. kirkii', 'Fetter2019 - O. macrophyllum', 'Fetter2019 - P. vulgaris', 'Fetter2019 - P. vulgaris', 'Fetter2019 - P. vulgaris', 'Fetter2019 - P. vulgaris', 'Vofely2019 - A. carmichaelii', 'Vofely2019 - A. carmichaelii', 'Vofely2019 - A. carmichaelii', 'Vofely2019 - A. carmichaelii', 'Fetter2019 - S. minor', 'Fetter2019 - P. bipinnatifidum', 'Fetter2019 - P. bipinnatifidum', 'Fetter2019 - O. floribunda', 'Fetter2019 - O. floribunda', 'Vofely2019 - A. strigosa', 'Vofely2019 - B. trigyna', 'Vofely2019 - B. trigyna', 'Vofely2019 - B. trigyna', 'Fetter2019 - T. angustifolia', 'Vofely2019 - B. macranthum', 'Vofely2019 - B. macranthum', 'Vofely2019 - B. macranthum', 'Fetter2019 - V. ferruginea', 'Fetter2019 - T. gloriensis', 'Fetter2019 - Q. benthamii', 'Fetter2019 - C. erumpens', 'Fetter2019 - G. princeps', 'Fetter2019 - A. densiflora', 'Vofely2019 - E. auripilum', 'Vofely2019 - E. auripilum', 'Vofely2019 - E. auripilum', 'Vofely2019 - C. wilmottianum', 'Vofely2019 - C. wilmottianum', 'Vofely2019 - C. wilmottianum', 'Vofely2019 - C. wilmottianum', 'Vofely2019 - C. wilmottianum', 'Vofely2019 - C. wilmottianum', 'Vofely2019 - C. wilmottianum', 'Vofely2019 - C. wilmottianum', 'Fetter2019 - T. cuneata', 'Fetter2019 - N. microcarpa', 'Vofely2019 - F. berteroana', 'Vofely2019 - F. berteroana', 'Vofely2019 - F. berteroana', 'Vofely2019 - B. spectabilis', 'Fetter2019 - L. panamensis', 'Fetter2019 - Q. eugeniifolia', 'Fetter2019 - Q. acatenangensis', 'Fetter2019 - P. latifolia_(Posoqueria)', 'Vofely2019 - A. shawii', 'Fetter2019 - O. sanderianus', 'Fetter2019 - Q. borucasana', 'Toda2018 - C. benghalensis', 'Toda2018 - C. benghalensis', 'Toda2018 - C. benghalensis', 'Toda2018 - C. benghalensis', 'Toda2018 - C. benghalensis', 'Toda2018 - C. benghalensis', 'Toda2018 - C. benghalensis', 'Toda2018 - C. benghalensis', 'Toda2018 - C. benghalensis', 'Toda2018 - C. benghalensis', 'Toda2018 - C. benghalensis', 'Fetter2019 - O. acutifolia', 'Fetter2019 - T. clathrata', 'Fetter2019 - N. rigida', 'Fetter2019 - A. purpurea', 'Fetter2019 - R. montana', 'Vofely2019 - A. caudatus', 'Vofely2019 - A. caudatus', 'Vofely2019 - C. jonesii', 'Vofely2019 - C. jonesii', 'Vofely2019 - C. jonesii', 'Vofely2019 - A. zerumbet', 'Fetter2019 - D. granadensis', 'Fetter2019 - P. scandens', 'Fetter2019 - M. trifidus', 'Fetter2019 - M. aethiopica', 'Fetter2019 - S. weinmannifolius', 'Fetter2019 - Q. henryi', 'Fetter2019 - N. antilliana', 'Vofely2019 - M. caryophyllacea', 'Vofely2019 - M. caryophyllacea', 'Fetter2019 - L. floribunda', 'Fetter2019 - C. abditus', 'Fetter2019 - Trattinicia sp', 'Fetter2019 - A. verrucosa', 'Vofely2019 - C. medium', 'Vofely2019 - C. medium', 'Vofely2019 - C. medium', 'Vofely2019 - C. medium', 'Fetter2019 - N. membranacea', 'Fetter2019 - C. elegans', 'Fetter2019 - Z. americanum', 'Fetter2019 - Z. americanum', 'Fetter2019 - T. wilfordii', 'Fetter2019 - T. wilfordii', 'Fetter2019 - Q. densiflora']\n"
     ]
    }
   ],
   "source": [
    "from stomatapy.utils.data_statistics import DataStatistics\n",
    "\n",
    "selected_jsons = DataStatistics().select_species_folders(pavements_only=True, ensemble_files=True)"
   ]
  },
  {
   "cell_type": "code",
   "execution_count": 1,
   "metadata": {},
   "outputs": [],
   "source": [
    "from stomatapy.core.isat import UtilsISAT\n",
    "input_dir = 'Datasets//Ensemble - Copy'\n",
    "\n",
    "UtilsISAT.select_class(input_dir , action='rename class', source_class='stoma', destination_class='stomatal complex', allow_remove_source_class=True)  # replace non-duplicated stoma with stomatal complex\n",
    "classes2remove = ['outer ledge', 'pore']\n",
    "for category in classes2remove:\n",
    "    UtilsISAT.select_class(input_dir, category=category, action='remove')  # remove catergoreis that are not 'stomatal complex' or 'pavement cell'\n",
    "UtilsISAT.resize_isat(input_dir=input_dir, new_width=4352, new_height=1844, if_keep_ratio=True)\n",
    "UtilsISAT.shapely_valid_transform(input_dir)  # transform the polygons to be valid as shapely require"
   ]
  },
  {
   "cell_type": "code",
   "execution_count": 2,
   "metadata": {},
   "outputs": [
    {
     "name": "stdout",
     "output_type": "stream",
     "text": [
      "train size=37, validation size=9\n",
      "indexing coco dataset annotations...\n"
     ]
    },
    {
     "name": "stderr",
     "output_type": "stream",
     "text": [
      "Loading coco annotations: 100%|██████████| 37/37 [00:00<00:00, 296.90it/s]\n",
      "100%|██████████| 37/37 [00:21<00:00,  1.71it/s]\n"
     ]
    },
    {
     "name": "stdout",
     "output_type": "stream",
     "text": [
      "indexing coco dataset annotations...\n"
     ]
    },
    {
     "name": "stderr",
     "output_type": "stream",
     "text": [
      "Loading coco annotations: 100%|██████████| 9/9 [00:00<00:00, 391.31it/s]\n",
      "100%|██████████| 9/9 [00:04<00:00,  1.83it/s]\n"
     ]
    }
   ],
   "source": [
    "from stomatapy.utils.data4training import Data4Training\n",
    "input_dir = 'Datasets/Casado-Garcia2020/Processed/H. vulgare/Annotated'\n",
    "# input_dir = 'Datasets//Ensemble'\n",
    "Data4Training(input_dir=input_dir, aim='object detection').data4training(if_resize_isat=True)"
   ]
  },
  {
   "cell_type": "markdown",
   "metadata": {},
   "source": [
    "# I\\/O operations"
   ]
  },
  {
   "cell_type": "code",
   "execution_count": null,
   "metadata": {
    "scrolled": true
   },
   "outputs": [],
   "source": [
    "!unzip Stomata_segmentation.zip -d Stomata_segmentation"
   ]
  },
  {
   "cell_type": "markdown",
   "metadata": {},
   "source": [
    "# Check GPUs and CPUs"
   ]
  },
  {
   "cell_type": "markdown",
   "metadata": {},
   "source": [
    "# Check the config file (optional)"
   ]
  },
  {
   "cell_type": "code",
   "execution_count": 17,
   "metadata": {},
   "outputs": [],
   "source": [
    "from mmengine import Config\n",
    "cfg = Config.fromfile('Configs//swin-l_dino.py')\n",
    "print(cfg.pretty_text)\n",
    "#cfg.dump('Configs//swin-l_dino_config.py')"
   ]
  },
  {
   "cell_type": "markdown",
   "metadata": {
    "tags": []
   },
   "source": [
    "# MMDetection"
   ]
  },
  {
   "cell_type": "markdown",
   "metadata": {
    "tags": []
   },
   "source": [
    "## install mmdetection"
   ]
  },
  {
   "cell_type": "code",
   "execution_count": null,
   "metadata": {
    "scrolled": true,
    "tags": []
   },
   "outputs": [],
   "source": [
    "####### code block 1 ########\n",
    "!mim install \"mmdet>=3.0.0rc0\"\n",
    "#!git clone https://github.com/open-mmlab/mmdetection.git\n",
    "#%cd mmdetection\n",
    "#!pip install -v -e .\n",
    "#%cd .."
   ]
  },
  {
   "cell_type": "markdown",
   "metadata": {},
   "source": [
    "## visualize dataset"
   ]
  },
  {
   "cell_type": "code",
   "execution_count": null,
   "metadata": {
    "tags": []
   },
   "outputs": [],
   "source": [
    "mim run mmdet browse_dataset train/mmdetection/Swin-l_dino_config.py  --output-dir viz_dataset_mmdet/ "
   ]
  },
  {
   "cell_type": "markdown",
   "metadata": {
    "tags": []
   },
   "source": [
    "## training"
   ]
  },
  {
   "cell_type": "code",
   "execution_count": null,
   "metadata": {},
   "outputs": [],
   "source": [
    "mim train mmdet Configs//INSTANCE_Stomata_mask2former_swin-s.py --gpus 4 --launcher pytorch"
   ]
  },
  {
   "cell_type": "markdown",
   "metadata": {},
   "source": [
    "# Rein"
   ]
  },
  {
   "cell_type": "markdown",
   "metadata": {},
   "source": [
    "## install mmsegmentation and clone rein"
   ]
  },
  {
   "cell_type": "code",
   "execution_count": 25,
   "metadata": {
    "scrolled": true
   },
   "outputs": [
    {
     "name": "stdout",
     "output_type": "stream",
     "text": [
      "fatal: destination path 'mmsegmentation' already exists and is not an empty directory.\n",
      "/StomataPy/mmsegmentation\n",
      "Using pip 24.0 from /usr/local/lib/python3.10/dist-packages/pip (python 3.10)\n",
      "Defaulting to user installation because normal site-packages is not writeable\n",
      "Obtaining file:///StomataPy/mmsegmentation\n",
      "  Running command python setup.py egg_info\n",
      "  running egg_info\n",
      "  creating /tmp/pip-pip-egg-info-sjyeenhy/mmsegmentation.egg-info\n",
      "  writing manifest file '/tmp/pip-pip-egg-info-sjyeenhy/mmsegmentation.egg-info/SOURCES.txt'\n",
      "  writing manifest file '/tmp/pip-pip-egg-info-sjyeenhy/mmsegmentation.egg-info/SOURCES.txt'\n",
      "  Preparing metadata (setup.py) ... \u001b[?25l\u001b[?25hdone\n",
      "Requirement already satisfied: matplotlib in /usr/local/lib/python3.10/dist-packages (from mmsegmentation==1.2.2) (3.8.4)\n",
      "Requirement already satisfied: numpy in /usr/local/lib/python3.10/dist-packages (from mmsegmentation==1.2.2) (1.26.4)\n",
      "Requirement already satisfied: packaging in /usr/local/lib/python3.10/dist-packages (from mmsegmentation==1.2.2) (24.0)\n",
      "Requirement already satisfied: prettytable in /usr/local/lib/python3.10/dist-packages (from mmsegmentation==1.2.2) (3.10.0)\n",
      "Requirement already satisfied: scipy in /usr/local/lib/python3.10/dist-packages (from mmsegmentation==1.2.2) (1.13.0)\n",
      "Requirement already satisfied: contourpy>=1.0.1 in /usr/local/lib/python3.10/dist-packages (from matplotlib->mmsegmentation==1.2.2) (1.2.1)\n",
      "Requirement already satisfied: cycler>=0.10 in /usr/local/lib/python3.10/dist-packages (from matplotlib->mmsegmentation==1.2.2) (0.12.1)\n",
      "Requirement already satisfied: fonttools>=4.22.0 in /usr/local/lib/python3.10/dist-packages (from matplotlib->mmsegmentation==1.2.2) (4.51.0)\n",
      "Requirement already satisfied: kiwisolver>=1.3.1 in /usr/local/lib/python3.10/dist-packages (from matplotlib->mmsegmentation==1.2.2) (1.4.5)\n",
      "Requirement already satisfied: pillow>=8 in /usr/local/lib/python3.10/dist-packages (from matplotlib->mmsegmentation==1.2.2) (10.3.0)\n",
      "Requirement already satisfied: pyparsing>=2.3.1 in /usr/local/lib/python3.10/dist-packages (from matplotlib->mmsegmentation==1.2.2) (3.1.2)\n",
      "Requirement already satisfied: python-dateutil>=2.7 in /usr/local/lib/python3.10/dist-packages (from matplotlib->mmsegmentation==1.2.2) (2.9.0.post0)\n",
      "Requirement already satisfied: wcwidth in /usr/local/lib/python3.10/dist-packages (from prettytable->mmsegmentation==1.2.2) (0.2.13)\n",
      "Requirement already satisfied: six>=1.5 in /usr/local/lib/python3.10/dist-packages (from python-dateutil>=2.7->matplotlib->mmsegmentation==1.2.2) (1.16.0)\n",
      "Installing collected packages: mmsegmentation\n",
      "  Running setup.py develop for mmsegmentation\n",
      "    Running command python setup.py develop\n",
      "    running develop\n",
      "    /usr/local/lib/python3.10/dist-packages/setuptools/command/easy_install.py:156: EasyInstallDeprecationWarning: easy_install command is deprecated. Use build and pip and other standards-based tools.\n",
      "      warnings.warn(\n",
      "    /usr/local/lib/python3.10/dist-packages/setuptools/command/install.py:34: SetuptoolsDeprecationWarning: setup.py install is deprecated. Use build and pip and other standards-based tools.\n",
      "      warnings.warn(\n",
      "    /usr/bin/python -E -c pass\n",
      "    TEST FAILED: /home/hongyuan/.local/lib/python3.1/site-packages does NOT support .pth files\n",
      "    bad install directory or PYTHONPATH\n",
      "\n",
      "    You are attempting to install a package to a directory that is not\n",
      "    on PYTHONPATH and which Python does not read \".pth\" files from.  The\n",
      "    installation directory you specified (via --install-dir, --prefix, or\n",
      "    the distutils default setting) was:\n",
      "\n",
      "        /home/hongyuan/.local/lib/python3.1/site-packages\n",
      "\n",
      "    and your PYTHONPATH environment variable currently contains:\n",
      "\n",
      "        ''\n",
      "\n",
      "    Here are some of your options for correcting the problem:\n",
      "\n",
      "    * You can choose a different installation directory, i.e., one that is\n",
      "      on PYTHONPATH or supports .pth files\n",
      "\n",
      "    * You can add the installation directory to the PYTHONPATH environment\n",
      "      variable.  (It must then also be on PYTHONPATH whenever you run\n",
      "      Python and want to use the package(s) you are installing.)\n",
      "\n",
      "    * You can set up the installation directory to support \".pth\" files by\n",
      "      using one of the approaches described here:\n",
      "\n",
      "      https://setuptools.pypa.io/en/latest/deprecated/easy_install.html#custom-installation-locations\n",
      "\n",
      "\n",
      "    Please make the appropriate changes for your system and try again.\n",
      "    running egg_info\n",
      "    writing manifest file 'mmsegmentation.egg-info/SOURCES.txt'\n",
      "    running build_ext\n",
      "Successfully installed mmsegmentation\n",
      "/StomataPy\n",
      "Defaulting to user installation because normal site-packages is not writeable\n",
      "Requirement already satisfied: wandb in /home/hongyuan/.local/lib/python3.10/site-packages (0.17.0)\n",
      "Requirement already satisfied: click!=8.0.0,>=7.1 in /usr/local/lib/python3.10/dist-packages (from wandb) (8.1.7)\n",
      "Requirement already satisfied: docker-pycreds>=0.4.0 in /home/hongyuan/.local/lib/python3.10/site-packages (from wandb) (0.4.0)\n",
      "Requirement already satisfied: gitpython!=3.1.29,>=1.0.0 in /home/hongyuan/.local/lib/python3.10/site-packages (from wandb) (3.1.43)\n",
      "Requirement already satisfied: platformdirs in /usr/local/lib/python3.10/dist-packages (from wandb) (4.2.1)\n",
      "Requirement already satisfied: protobuf!=4.21.0,<5,>=3.19.0 in /home/hongyuan/.local/lib/python3.10/site-packages (from wandb) (4.25.3)\n",
      "Requirement already satisfied: psutil>=5.0.0 in /usr/local/lib/python3.10/dist-packages (from wandb) (5.9.8)\n",
      "Requirement already satisfied: pyyaml in /usr/local/lib/python3.10/dist-packages (from wandb) (6.0.1)\n",
      "Requirement already satisfied: requests<3,>=2.0.0 in /usr/local/lib/python3.10/dist-packages (from wandb) (2.31.0)\n",
      "Requirement already satisfied: sentry-sdk>=1.0.0 in /home/hongyuan/.local/lib/python3.10/site-packages (from wandb) (2.1.1)\n",
      "Requirement already satisfied: setproctitle in /home/hongyuan/.local/lib/python3.10/site-packages (from wandb) (1.3.3)\n",
      "Requirement already satisfied: setuptools in /usr/local/lib/python3.10/dist-packages (from wandb) (60.2.0)\n",
      "Requirement already satisfied: six>=1.4.0 in /usr/local/lib/python3.10/dist-packages (from docker-pycreds>=0.4.0->wandb) (1.16.0)\n",
      "Requirement already satisfied: gitdb<5,>=4.0.1 in /home/hongyuan/.local/lib/python3.10/site-packages (from gitpython!=3.1.29,>=1.0.0->wandb) (4.0.11)\n",
      "Requirement already satisfied: charset-normalizer<4,>=2 in /usr/local/lib/python3.10/dist-packages (from requests<3,>=2.0.0->wandb) (3.3.2)\n",
      "Requirement already satisfied: idna<4,>=2.5 in /usr/local/lib/python3.10/dist-packages (from requests<3,>=2.0.0->wandb) (3.7)\n",
      "Requirement already satisfied: urllib3<3,>=1.21.1 in /usr/local/lib/python3.10/dist-packages (from requests<3,>=2.0.0->wandb) (1.26.18)\n",
      "Requirement already satisfied: certifi>=2017.4.17 in /usr/local/lib/python3.10/dist-packages (from requests<3,>=2.0.0->wandb) (2024.2.2)\n",
      "Requirement already satisfied: smmap<6,>=3.0.1 in /home/hongyuan/.local/lib/python3.10/site-packages (from gitdb<5,>=4.0.1->gitpython!=3.1.29,>=1.0.0->wandb) (5.0.1)\n",
      "Cloning into 'Rein'...\n",
      "remote: Enumerating objects: 525, done.\u001b[K\n",
      "remote: Counting objects: 100% (92/92), done.\u001b[K\n",
      "remote: Compressing objects: 100% (78/78), done.\u001b[K\n",
      "remote: Total 525 (delta 45), reused 32 (delta 14), pack-reused 433\u001b[K\n",
      "Receiving objects: 100% (525/525), 88.99 MiB | 22.04 MiB/s, done.\n",
      "Resolving deltas: 100% (268/268), done.\n"
     ]
    }
   ],
   "source": [
    "!git clone https://github.com/open-mmlab/mmsegmentation.git\n",
    "%cd mmsegmentation\n",
    "!pip install -v -e .\n",
    "%cd ..\n",
    "!pip install wandb\n",
    "!git clone https://github.com/w1oves/Rein.git"
   ]
  },
  {
   "cell_type": "code",
   "execution_count": 26,
   "metadata": {},
   "outputs": [
    {
     "name": "stderr",
     "output_type": "stream",
     "text": [
      "100%|███████████████████████████████████████████████████████████████████████████████████████████████████████████████████████████████████████████████████████████████████████████████████████████████████████████████████| 3/3 [00:00<00:00, 2179.99it/s]\n"
     ]
    },
    {
     "data": {
      "text/plain": [
       "'Rein/rein_dinov2_mask2former_config.py'"
      ]
     },
     "execution_count": 26,
     "metadata": {},
     "output_type": "execute_result"
    }
   ],
   "source": [
    "import shutil\n",
    "from tqdm import tqdm\n",
    "\n",
    "list2copy = [\n",
    "    'train/mmsegmentation/__init__.py',\n",
    "    'train/mmsegmentation/stomata_dataset.py',\n",
    "    'train/mmsegmentation/cell_dataset.py'\n",
    "]    \n",
    "\n",
    "for dir in tqdm(list2copy, total=len(list2copy)):\n",
    "    shutil.copy2(dir, 'mmsegmentation/mmseg/datasets')\n",
    "\n",
    "shutil.copy2('train/mmsegmentation/local_visualizer.py', 'mmsegmentation/mmseg/visualization/local_visualizer.py')\n",
    "\n",
    "shutil.copy2('train/rein/reins_sam_vit.py', 'Rein/rein/models/backbones')\n",
    "shutil.copy2('train/rein/rein_dinov2_mask2former_config.py', 'Rein/rein_dinov2_mask2former_config.py')"
   ]
  },
  {
   "cell_type": "markdown",
   "metadata": {},
   "source": [
    "## preview data augmentation (run in terminal)"
   ]
  },
  {
   "cell_type": "code",
   "execution_count": null,
   "metadata": {},
   "outputs": [],
   "source": [
    "cd Rein\n",
    "export PYTHONPATH=$PYTHONPATH:/StomataPy/mmsegmentation\n",
    "python ../mmsegmentation/tools/analysis_tools/browse_dataset.py \\\n",
    "    rein_dinov2_mask2former_config.py  \\\n",
    "    --output-dir ../viz_dataset/ "
   ]
  },
  {
   "cell_type": "markdown",
   "metadata": {},
   "source": [
    "## get dinov2 weights"
   ]
  },
  {
   "cell_type": "code",
   "execution_count": 27,
   "metadata": {},
   "outputs": [
    {
     "name": "stdout",
     "output_type": "stream",
     "text": [
      "/StomataPy/Rein\n",
      "--2024-05-12 17:58:08--  https://dl.fbaipublicfiles.com/dinov2/dinov2_vitl14/dinov2_vitl14_pretrain.pth\n",
      "Resolving proxy.ethz.ch (proxy.ethz.ch)... 129.132.202.155\n",
      "Connecting to proxy.ethz.ch (proxy.ethz.ch)|129.132.202.155|:3128... connected.\n",
      "Proxy request sent, awaiting response... 200 OK\n",
      "Length: 1217586395 (1.1G) [binary/octet-stream]\n",
      "Saving to: ‘checkpoints/dinov2_vitl14_pretrain.pth’\n",
      "\n",
      "dinov2_vitl14_pretr 100%[===================>]   1.13G   109MB/s    in 11s     \n",
      "\n",
      "2024-05-12 17:58:19 (104 MB/s) - ‘checkpoints/dinov2_vitl14_pretrain.pth’ saved [1217586395/1217586395]\n",
      "\n",
      "Load from checkpoints/dinov2_vitl14_pretrain.pth\n",
      "Convert conv kernel in patch embed layer: torch.Size([1024, 3, 14, 14]) -> torch.Size([1024, 3, 16, 16])\n",
      "Convert pos embedding: torch.Size([1, 1369, 1024]) -> (-1, 37, 37, 1024) -> torch.Size([1, 1024, 32, 32]) -> torch.Size([1, 1024, 1024])\n",
      "Save to checkpoints/dinov2_converted.pth\n"
     ]
    }
   ],
   "source": [
    "%cd Rein\n",
    "!wget -P checkpoints https://dl.fbaipublicfiles.com/dinov2/dinov2_vitl14/dinov2_vitl14_pretrain.pth\n",
    "!python tools/convert_models/convert_dinov2.py checkpoints/dinov2_vitl14_pretrain.pth checkpoints/dinov2_converted.pth --height 512 --width 512"
   ]
  },
  {
   "cell_type": "markdown",
   "metadata": {},
   "source": [
    "## get config"
   ]
  },
  {
   "cell_type": "code",
   "execution_count": 26,
   "metadata": {},
   "outputs": [],
   "source": [
    "from mmengine import Config\n",
    "cfg = Config.fromfile('configs/dinov2/rein_dinov2_mask2former_512x512_bs1x4.py')\n",
    "print(cfg.pretty_text)\n",
    "#cfg.dump('rein_dinov2_mask2former_512x512_bs1x4.py')"
   ]
  },
  {
   "cell_type": "markdown",
   "metadata": {},
   "source": [
    "## training (run in terminal)"
   ]
  },
  {
   "cell_type": "code",
   "execution_count": null,
   "metadata": {},
   "outputs": [],
   "source": [
    "# e98d0d0fc185629c362c4f0f39cc9282d955d217\n",
    "# --cfg-options efficient_conv_bn_eval=\"[backbone]\""
   ]
  },
  {
   "cell_type": "code",
   "execution_count": null,
   "metadata": {},
   "outputs": [],
   "source": [
    "export PYTHONPATH=$PYTHONPATH:/StomataPy/mmsegmentation\n",
    "PORT=12345 CUDA_VISIBLE_DEVICES=0,1,2,3 bash tools/dist_train.sh rein_dinov2_mask2former_config.py 4"
   ]
  },
  {
   "cell_type": "code",
   "execution_count": null,
   "metadata": {},
   "outputs": [],
   "source": [
    "!python tools/generate_full_weights.py \\\n",
    "    --dinov2_segmentor_path checkpoints/dinov2_segmentor_test.pth \\\n",
    "    --backbone checkpoints/dinov2_vitl14_pretrain.pth \\\n",
    "    --rein_head checkpoints/best_mIoU_epoch_155.pth"
   ]
  },
  {
   "cell_type": "code",
   "execution_count": null,
   "metadata": {},
   "outputs": [],
   "source": [
    "import torch\n",
    "import torch.nn as nn\n",
    "import rein\n",
    "from mmengine.config import Config\n",
    "from mmseg.apis.inference import inference_model,show_result_pyplot,init_model\n",
    "import matplotlib.pyplot as plt\n",
    "cfg=Config.fromfile('configs/dinov2/rein_dinov2_mask2former_test.py')\n",
    "network:nn.Module=init_model(cfg,'checkpoints/dinov2_segmentor_test.pth','cuda:0')\n",
    "network.cfg=cfg\n",
    "#network.cfg.test_pipeline=network.cfg.bdd_test_pipeline\n",
    "torch.set_grad_enabled(False)"
   ]
  },
  {
   "cell_type": "code",
   "execution_count": null,
   "metadata": {},
   "outputs": [],
   "source": [
    "im_path='VegAnn_326.png'\n",
    "result=inference_model(network,im_path)\n",
    "vis_img=show_result_pyplot(network,im_path,result)\n",
    "plt.imshow(vis_img)\n",
    "plt.axis('off')"
   ]
  }
 ],
 "metadata": {
  "accelerator": "GPU",
  "colab": {
   "collapsed_sections": [
    "J2OtvBLRa2D3",
    "H0sxjxbvfWMb",
    "nyr4y8aiw4oK",
    "egEeiRr9uAj8",
    "833D0mbi-Mqz",
    "gEptYWuD8qjq",
    "gz5wcgGScwPi",
    "77_vyR9TC4p-",
    "sbFmyqnaiSaj",
    "gd9k1MHvooJ5"
   ],
   "machine_shape": "hm",
   "provenance": []
  },
  "gpuClass": "premium",
  "kernelspec": {
   "display_name": "Python 3 (ipykernel)",
   "language": "python",
   "name": "python3"
  },
  "language_info": {
   "codemirror_mode": {
    "name": "ipython",
    "version": 3
   },
   "file_extension": ".py",
   "mimetype": "text/x-python",
   "name": "python",
   "nbconvert_exporter": "python",
   "pygments_lexer": "ipython3",
   "version": "3.10.14"
  },
  "widgets": {
   "application/vnd.jupyter.widget-state+json": {
    "055d380628a048fe87905ea90e498f6e": {
     "model_module": "@jupyter-widgets/controls",
     "model_module_version": "1.5.0",
     "model_name": "HTMLModel",
     "state": {
      "_dom_classes": [],
      "_model_module": "@jupyter-widgets/controls",
      "_model_module_version": "1.5.0",
      "_model_name": "HTMLModel",
      "_view_count": null,
      "_view_module": "@jupyter-widgets/controls",
      "_view_module_version": "1.5.0",
      "_view_name": "HTMLView",
      "description": "",
      "description_tooltip": null,
      "layout": "IPY_MODEL_c720ecf0b60a44e19d7642da97226db5",
      "placeholder": "​",
      "style": "IPY_MODEL_80c476efea2e4e49b7f440de902e8bff",
      "value": " 137M/137M [00:06&lt;00:00, 24.4MB/s]"
     }
    },
    "057a070828cd45c5825178b0d0c2efc4": {
     "model_module": "@jupyter-widgets/controls",
     "model_module_version": "1.5.0",
     "model_name": "DescriptionStyleModel",
     "state": {
      "_model_module": "@jupyter-widgets/controls",
      "_model_module_version": "1.5.0",
      "_model_name": "DescriptionStyleModel",
      "_view_count": null,
      "_view_module": "@jupyter-widgets/base",
      "_view_module_version": "1.2.0",
      "_view_name": "StyleView",
      "description_width": ""
     }
    },
    "1849c69ad0dc49e5a27194c3e0fdb1b8": {
     "model_module": "@jupyter-widgets/controls",
     "model_module_version": "1.5.0",
     "model_name": "ProgressStyleModel",
     "state": {
      "_model_module": "@jupyter-widgets/controls",
      "_model_module_version": "1.5.0",
      "_model_name": "ProgressStyleModel",
      "_view_count": null,
      "_view_module": "@jupyter-widgets/base",
      "_view_module_version": "1.2.0",
      "_view_name": "StyleView",
      "bar_color": null,
      "description_width": ""
     }
    },
    "1cba8110810e4d619e5828c8fc2bbb8e": {
     "model_module": "@jupyter-widgets/controls",
     "model_module_version": "1.5.0",
     "model_name": "ProgressStyleModel",
     "state": {
      "_model_module": "@jupyter-widgets/controls",
      "_model_module_version": "1.5.0",
      "_model_name": "ProgressStyleModel",
      "_view_count": null,
      "_view_module": "@jupyter-widgets/base",
      "_view_module_version": "1.2.0",
      "_view_name": "StyleView",
      "bar_color": null,
      "description_width": ""
     }
    },
    "2337a836f29f49ea91987e4dbd67a0ff": {
     "model_module": "@jupyter-widgets/base",
     "model_module_version": "1.2.0",
     "model_name": "LayoutModel",
     "state": {
      "_model_module": "@jupyter-widgets/base",
      "_model_module_version": "1.2.0",
      "_model_name": "LayoutModel",
      "_view_count": null,
      "_view_module": "@jupyter-widgets/base",
      "_view_module_version": "1.2.0",
      "_view_name": "LayoutView",
      "align_content": null,
      "align_items": null,
      "align_self": null,
      "border": null,
      "bottom": null,
      "display": null,
      "flex": null,
      "flex_flow": null,
      "grid_area": null,
      "grid_auto_columns": null,
      "grid_auto_flow": null,
      "grid_auto_rows": null,
      "grid_column": null,
      "grid_gap": null,
      "grid_row": null,
      "grid_template_areas": null,
      "grid_template_columns": null,
      "grid_template_rows": null,
      "height": null,
      "justify_content": null,
      "justify_items": null,
      "left": null,
      "margin": null,
      "max_height": null,
      "max_width": null,
      "min_height": null,
      "min_width": null,
      "object_fit": null,
      "object_position": null,
      "order": null,
      "overflow": null,
      "overflow_x": null,
      "overflow_y": null,
      "padding": null,
      "right": null,
      "top": null,
      "visibility": null,
      "width": null
     }
    },
    "2584d7c435d540c7802af00f993567ae": {
     "model_module": "@jupyter-widgets/base",
     "model_module_version": "1.2.0",
     "model_name": "LayoutModel",
     "state": {
      "_model_module": "@jupyter-widgets/base",
      "_model_module_version": "1.2.0",
      "_model_name": "LayoutModel",
      "_view_count": null,
      "_view_module": "@jupyter-widgets/base",
      "_view_module_version": "1.2.0",
      "_view_name": "LayoutView",
      "align_content": null,
      "align_items": null,
      "align_self": null,
      "border": null,
      "bottom": null,
      "display": null,
      "flex": null,
      "flex_flow": null,
      "grid_area": null,
      "grid_auto_columns": null,
      "grid_auto_flow": null,
      "grid_auto_rows": null,
      "grid_column": null,
      "grid_gap": null,
      "grid_row": null,
      "grid_template_areas": null,
      "grid_template_columns": null,
      "grid_template_rows": null,
      "height": null,
      "justify_content": null,
      "justify_items": null,
      "left": null,
      "margin": null,
      "max_height": null,
      "max_width": null,
      "min_height": null,
      "min_width": null,
      "object_fit": null,
      "object_position": null,
      "order": null,
      "overflow": null,
      "overflow_x": null,
      "overflow_y": null,
      "padding": null,
      "right": null,
      "top": null,
      "visibility": null,
      "width": null
     }
    },
    "4420fb69a0be4aada0e2a2073304f470": {
     "model_module": "@jupyter-widgets/controls",
     "model_module_version": "1.5.0",
     "model_name": "HTMLModel",
     "state": {
      "_dom_classes": [],
      "_model_module": "@jupyter-widgets/controls",
      "_model_module_version": "1.5.0",
      "_model_name": "HTMLModel",
      "_view_count": null,
      "_view_module": "@jupyter-widgets/controls",
      "_view_module_version": "1.5.0",
      "_view_name": "HTMLView",
      "description": "",
      "description_tooltip": null,
      "layout": "IPY_MODEL_2584d7c435d540c7802af00f993567ae",
      "placeholder": "​",
      "style": "IPY_MODEL_057a070828cd45c5825178b0d0c2efc4",
      "value": "100%"
     }
    },
    "5002510e5a384d099ace0ab0243b93a4": {
     "model_module": "@jupyter-widgets/controls",
     "model_module_version": "1.5.0",
     "model_name": "HTMLModel",
     "state": {
      "_dom_classes": [],
      "_model_module": "@jupyter-widgets/controls",
      "_model_module_version": "1.5.0",
      "_model_name": "HTMLModel",
      "_view_count": null,
      "_view_module": "@jupyter-widgets/controls",
      "_view_module_version": "1.5.0",
      "_view_name": "HTMLView",
      "description": "",
      "description_tooltip": null,
      "layout": "IPY_MODEL_7d8ceea20d34420894f88011cd231d11",
      "placeholder": "​",
      "style": "IPY_MODEL_c0f8bcfa357048db8ed923f8ccbf9a21",
      "value": " 755k/755k [00:00&lt;00:00, 23.2MB/s]"
     }
    },
    "6a74007a00504d19992b51c71a81eaa1": {
     "model_module": "@jupyter-widgets/controls",
     "model_module_version": "1.5.0",
     "model_name": "HTMLModel",
     "state": {
      "_dom_classes": [],
      "_model_module": "@jupyter-widgets/controls",
      "_model_module_version": "1.5.0",
      "_model_name": "HTMLModel",
      "_view_count": null,
      "_view_module": "@jupyter-widgets/controls",
      "_view_module_version": "1.5.0",
      "_view_name": "HTMLView",
      "description": "",
      "description_tooltip": null,
      "layout": "IPY_MODEL_df5cf589b8e1417c983fac215ba3140a",
      "placeholder": "​",
      "style": "IPY_MODEL_fe0cbb8ecaf64742a9bfc5faf3b6c7d0",
      "value": "100%"
     }
    },
    "7c913117c35a415a999b5b8fe27193fb": {
     "model_module": "@jupyter-widgets/base",
     "model_module_version": "1.2.0",
     "model_name": "LayoutModel",
     "state": {
      "_model_module": "@jupyter-widgets/base",
      "_model_module_version": "1.2.0",
      "_model_name": "LayoutModel",
      "_view_count": null,
      "_view_module": "@jupyter-widgets/base",
      "_view_module_version": "1.2.0",
      "_view_name": "LayoutView",
      "align_content": null,
      "align_items": null,
      "align_self": null,
      "border": null,
      "bottom": null,
      "display": null,
      "flex": null,
      "flex_flow": null,
      "grid_area": null,
      "grid_auto_columns": null,
      "grid_auto_flow": null,
      "grid_auto_rows": null,
      "grid_column": null,
      "grid_gap": null,
      "grid_row": null,
      "grid_template_areas": null,
      "grid_template_columns": null,
      "grid_template_rows": null,
      "height": null,
      "justify_content": null,
      "justify_items": null,
      "left": null,
      "margin": null,
      "max_height": null,
      "max_width": null,
      "min_height": null,
      "min_width": null,
      "object_fit": null,
      "object_position": null,
      "order": null,
      "overflow": null,
      "overflow_x": null,
      "overflow_y": null,
      "padding": null,
      "right": null,
      "top": null,
      "visibility": null,
      "width": null
     }
    },
    "7d8ceea20d34420894f88011cd231d11": {
     "model_module": "@jupyter-widgets/base",
     "model_module_version": "1.2.0",
     "model_name": "LayoutModel",
     "state": {
      "_model_module": "@jupyter-widgets/base",
      "_model_module_version": "1.2.0",
      "_model_name": "LayoutModel",
      "_view_count": null,
      "_view_module": "@jupyter-widgets/base",
      "_view_module_version": "1.2.0",
      "_view_name": "LayoutView",
      "align_content": null,
      "align_items": null,
      "align_self": null,
      "border": null,
      "bottom": null,
      "display": null,
      "flex": null,
      "flex_flow": null,
      "grid_area": null,
      "grid_auto_columns": null,
      "grid_auto_flow": null,
      "grid_auto_rows": null,
      "grid_column": null,
      "grid_gap": null,
      "grid_row": null,
      "grid_template_areas": null,
      "grid_template_columns": null,
      "grid_template_rows": null,
      "height": null,
      "justify_content": null,
      "justify_items": null,
      "left": null,
      "margin": null,
      "max_height": null,
      "max_width": null,
      "min_height": null,
      "min_width": null,
      "object_fit": null,
      "object_position": null,
      "order": null,
      "overflow": null,
      "overflow_x": null,
      "overflow_y": null,
      "padding": null,
      "right": null,
      "top": null,
      "visibility": null,
      "width": null
     }
    },
    "80c476efea2e4e49b7f440de902e8bff": {
     "model_module": "@jupyter-widgets/controls",
     "model_module_version": "1.5.0",
     "model_name": "DescriptionStyleModel",
     "state": {
      "_model_module": "@jupyter-widgets/controls",
      "_model_module_version": "1.5.0",
      "_model_name": "DescriptionStyleModel",
      "_view_count": null,
      "_view_module": "@jupyter-widgets/base",
      "_view_module_version": "1.2.0",
      "_view_name": "StyleView",
      "description_width": ""
     }
    },
    "a1d5058472754e4099c024f9671236a3": {
     "model_module": "@jupyter-widgets/base",
     "model_module_version": "1.2.0",
     "model_name": "LayoutModel",
     "state": {
      "_model_module": "@jupyter-widgets/base",
      "_model_module_version": "1.2.0",
      "_model_name": "LayoutModel",
      "_view_count": null,
      "_view_module": "@jupyter-widgets/base",
      "_view_module_version": "1.2.0",
      "_view_name": "LayoutView",
      "align_content": null,
      "align_items": null,
      "align_self": null,
      "border": null,
      "bottom": null,
      "display": null,
      "flex": null,
      "flex_flow": null,
      "grid_area": null,
      "grid_auto_columns": null,
      "grid_auto_flow": null,
      "grid_auto_rows": null,
      "grid_column": null,
      "grid_gap": null,
      "grid_row": null,
      "grid_template_areas": null,
      "grid_template_columns": null,
      "grid_template_rows": null,
      "height": null,
      "justify_content": null,
      "justify_items": null,
      "left": null,
      "margin": null,
      "max_height": null,
      "max_width": null,
      "min_height": null,
      "min_width": null,
      "object_fit": null,
      "object_position": null,
      "order": null,
      "overflow": null,
      "overflow_x": null,
      "overflow_y": null,
      "padding": null,
      "right": null,
      "top": null,
      "visibility": null,
      "width": null
     }
    },
    "aa027df2dec24e1792825f111ef95805": {
     "model_module": "@jupyter-widgets/controls",
     "model_module_version": "1.5.0",
     "model_name": "HBoxModel",
     "state": {
      "_dom_classes": [],
      "_model_module": "@jupyter-widgets/controls",
      "_model_module_version": "1.5.0",
      "_model_name": "HBoxModel",
      "_view_count": null,
      "_view_module": "@jupyter-widgets/controls",
      "_view_module_version": "1.5.0",
      "_view_name": "HBoxView",
      "box_style": "",
      "children": [
       "IPY_MODEL_6a74007a00504d19992b51c71a81eaa1",
       "IPY_MODEL_c43399c2c69b4f389ee3da4be54da4d9",
       "IPY_MODEL_5002510e5a384d099ace0ab0243b93a4"
      ],
      "layout": "IPY_MODEL_a1d5058472754e4099c024f9671236a3"
     }
    },
    "bec41a931bba4d7ebc31c5ce1089d47a": {
     "model_module": "@jupyter-widgets/controls",
     "model_module_version": "1.5.0",
     "model_name": "FloatProgressModel",
     "state": {
      "_dom_classes": [],
      "_model_module": "@jupyter-widgets/controls",
      "_model_module_version": "1.5.0",
      "_model_name": "FloatProgressModel",
      "_view_count": null,
      "_view_module": "@jupyter-widgets/controls",
      "_view_module_version": "1.5.0",
      "_view_name": "ProgressView",
      "bar_style": "success",
      "description": "",
      "description_tooltip": null,
      "layout": "IPY_MODEL_d3ac6bea6da1423582a7dc9968b83e61",
      "max": 144076467,
      "min": 0,
      "orientation": "horizontal",
      "style": "IPY_MODEL_1cba8110810e4d619e5828c8fc2bbb8e",
      "value": 144076467
     }
    },
    "c0f8bcfa357048db8ed923f8ccbf9a21": {
     "model_module": "@jupyter-widgets/controls",
     "model_module_version": "1.5.0",
     "model_name": "DescriptionStyleModel",
     "state": {
      "_model_module": "@jupyter-widgets/controls",
      "_model_module_version": "1.5.0",
      "_model_name": "DescriptionStyleModel",
      "_view_count": null,
      "_view_module": "@jupyter-widgets/base",
      "_view_module_version": "1.2.0",
      "_view_name": "StyleView",
      "description_width": ""
     }
    },
    "c43399c2c69b4f389ee3da4be54da4d9": {
     "model_module": "@jupyter-widgets/controls",
     "model_module_version": "1.5.0",
     "model_name": "FloatProgressModel",
     "state": {
      "_dom_classes": [],
      "_model_module": "@jupyter-widgets/controls",
      "_model_module_version": "1.5.0",
      "_model_name": "FloatProgressModel",
      "_view_count": null,
      "_view_module": "@jupyter-widgets/controls",
      "_view_module_version": "1.5.0",
      "_view_name": "ProgressView",
      "bar_style": "success",
      "description": "",
      "description_tooltip": null,
      "layout": "IPY_MODEL_2337a836f29f49ea91987e4dbd67a0ff",
      "max": 773236,
      "min": 0,
      "orientation": "horizontal",
      "style": "IPY_MODEL_1849c69ad0dc49e5a27194c3e0fdb1b8",
      "value": 773236
     }
    },
    "c720ecf0b60a44e19d7642da97226db5": {
     "model_module": "@jupyter-widgets/base",
     "model_module_version": "1.2.0",
     "model_name": "LayoutModel",
     "state": {
      "_model_module": "@jupyter-widgets/base",
      "_model_module_version": "1.2.0",
      "_model_name": "LayoutModel",
      "_view_count": null,
      "_view_module": "@jupyter-widgets/base",
      "_view_module_version": "1.2.0",
      "_view_name": "LayoutView",
      "align_content": null,
      "align_items": null,
      "align_self": null,
      "border": null,
      "bottom": null,
      "display": null,
      "flex": null,
      "flex_flow": null,
      "grid_area": null,
      "grid_auto_columns": null,
      "grid_auto_flow": null,
      "grid_auto_rows": null,
      "grid_column": null,
      "grid_gap": null,
      "grid_row": null,
      "grid_template_areas": null,
      "grid_template_columns": null,
      "grid_template_rows": null,
      "height": null,
      "justify_content": null,
      "justify_items": null,
      "left": null,
      "margin": null,
      "max_height": null,
      "max_width": null,
      "min_height": null,
      "min_width": null,
      "object_fit": null,
      "object_position": null,
      "order": null,
      "overflow": null,
      "overflow_x": null,
      "overflow_y": null,
      "padding": null,
      "right": null,
      "top": null,
      "visibility": null,
      "width": null
     }
    },
    "d3ac6bea6da1423582a7dc9968b83e61": {
     "model_module": "@jupyter-widgets/base",
     "model_module_version": "1.2.0",
     "model_name": "LayoutModel",
     "state": {
      "_model_module": "@jupyter-widgets/base",
      "_model_module_version": "1.2.0",
      "_model_name": "LayoutModel",
      "_view_count": null,
      "_view_module": "@jupyter-widgets/base",
      "_view_module_version": "1.2.0",
      "_view_name": "LayoutView",
      "align_content": null,
      "align_items": null,
      "align_self": null,
      "border": null,
      "bottom": null,
      "display": null,
      "flex": null,
      "flex_flow": null,
      "grid_area": null,
      "grid_auto_columns": null,
      "grid_auto_flow": null,
      "grid_auto_rows": null,
      "grid_column": null,
      "grid_gap": null,
      "grid_row": null,
      "grid_template_areas": null,
      "grid_template_columns": null,
      "grid_template_rows": null,
      "height": null,
      "justify_content": null,
      "justify_items": null,
      "left": null,
      "margin": null,
      "max_height": null,
      "max_width": null,
      "min_height": null,
      "min_width": null,
      "object_fit": null,
      "object_position": null,
      "order": null,
      "overflow": null,
      "overflow_x": null,
      "overflow_y": null,
      "padding": null,
      "right": null,
      "top": null,
      "visibility": null,
      "width": null
     }
    },
    "df5cf589b8e1417c983fac215ba3140a": {
     "model_module": "@jupyter-widgets/base",
     "model_module_version": "1.2.0",
     "model_name": "LayoutModel",
     "state": {
      "_model_module": "@jupyter-widgets/base",
      "_model_module_version": "1.2.0",
      "_model_name": "LayoutModel",
      "_view_count": null,
      "_view_module": "@jupyter-widgets/base",
      "_view_module_version": "1.2.0",
      "_view_name": "LayoutView",
      "align_content": null,
      "align_items": null,
      "align_self": null,
      "border": null,
      "bottom": null,
      "display": null,
      "flex": null,
      "flex_flow": null,
      "grid_area": null,
      "grid_auto_columns": null,
      "grid_auto_flow": null,
      "grid_auto_rows": null,
      "grid_column": null,
      "grid_gap": null,
      "grid_row": null,
      "grid_template_areas": null,
      "grid_template_columns": null,
      "grid_template_rows": null,
      "height": null,
      "justify_content": null,
      "justify_items": null,
      "left": null,
      "margin": null,
      "max_height": null,
      "max_width": null,
      "min_height": null,
      "min_width": null,
      "object_fit": null,
      "object_position": null,
      "order": null,
      "overflow": null,
      "overflow_x": null,
      "overflow_y": null,
      "padding": null,
      "right": null,
      "top": null,
      "visibility": null,
      "width": null
     }
    },
    "fb8ae704039945b3906a22dd61068445": {
     "model_module": "@jupyter-widgets/controls",
     "model_module_version": "1.5.0",
     "model_name": "HBoxModel",
     "state": {
      "_dom_classes": [],
      "_model_module": "@jupyter-widgets/controls",
      "_model_module_version": "1.5.0",
      "_model_name": "HBoxModel",
      "_view_count": null,
      "_view_module": "@jupyter-widgets/controls",
      "_view_module_version": "1.5.0",
      "_view_name": "HBoxView",
      "box_style": "",
      "children": [
       "IPY_MODEL_4420fb69a0be4aada0e2a2073304f470",
       "IPY_MODEL_bec41a931bba4d7ebc31c5ce1089d47a",
       "IPY_MODEL_055d380628a048fe87905ea90e498f6e"
      ],
      "layout": "IPY_MODEL_7c913117c35a415a999b5b8fe27193fb"
     }
    },
    "fe0cbb8ecaf64742a9bfc5faf3b6c7d0": {
     "model_module": "@jupyter-widgets/controls",
     "model_module_version": "1.5.0",
     "model_name": "DescriptionStyleModel",
     "state": {
      "_model_module": "@jupyter-widgets/controls",
      "_model_module_version": "1.5.0",
      "_model_name": "DescriptionStyleModel",
      "_view_count": null,
      "_view_module": "@jupyter-widgets/base",
      "_view_module_version": "1.2.0",
      "_view_name": "StyleView",
      "description_width": ""
     }
    }
   }
  }
 },
 "nbformat": 4,
 "nbformat_minor": 4
}
