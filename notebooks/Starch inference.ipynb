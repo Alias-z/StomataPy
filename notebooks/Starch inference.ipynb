{
 "cells": [
  {
   "cell_type": "markdown",
   "metadata": {
    "id": "-4fs8YYgAK_a",
    "pycharm": {
     "name": "#%% md\n"
    }
   },
   "source": [
    "# **Starch detection from confocal stomatal images - prediction**\n",
    "\n",
    "Autors: Santelia Lab at ETH Zurich\n",
    "\n",
    "Contact: hongyuan.zhang@usys.ethz.ch"
   ]
  },
  {
   "cell_type": "code",
   "execution_count": 5,
   "metadata": {},
   "outputs": [
    {
     "name": "stdout",
     "output_type": "stream",
     "text": [
      "\n",
      "      _____ ____ ____  ______   ___ _     ____  ____      _      ____ ____  \n",
      "     / ___//    |    \\|      | /  _| |   |    |/    |    | |    /    |    \\ \n",
      "    (   \\_|  o  |  _  |      |/  [_| |    |  ||  o  |    | |   |  o  |  o  )\n",
      "     \\__  |     |  |  |_|  |_|    _| |___ |  ||     |    | |___|     |     |\n",
      "     /  \\ |  _  |  |  | |  | |   [_|     ||  ||  _  |    |     |  _  |  O  |\n",
      "     \\    |  |  |  |  | |  | |     |     ||  ||  |  |    |     |  |  |     |\n",
      "      \\___|__|__|__|__| |__| |_____|_____|____|__|__|    |_____|__|__|_____|\n",
      "    \n",
      "image unit: micron\n",
      "Loads checkpoint by local backend from path: Applications//Weights//INSTANCE_BOTH_mask2former_swin-s_2023.05.26.pth\n"
     ]
    },
    {
     "name": "stderr",
     "output_type": "stream",
     "text": [
      "100%|██████████| 40/40 [00:11<00:00,  3.50it/s]\n"
     ]
    },
    {
     "name": "stdout",
     "output_type": "stream",
     "text": [
      "Loads checkpoint by local backend from path: Applications//Weights//SEMANTIC_BOTH_mask2former_swin-I_2023.05.27.pth\n"
     ]
    },
    {
     "name": "stderr",
     "output_type": "stream",
     "text": [
      "100%|██████████| 40/40 [00:37<00:00,  1.06it/s]\n"
     ]
    },
    {
     "name": "stdout",
     "output_type": "stream",
     "text": [
      "threshold = 17.067046801249184\n"
     ]
    }
   ],
   "source": [
    "from stomata_py.inference_api.starch_inference import StarchSeeker\n",
    "\n",
    "result = StarchSeeker(input_dir='..//Data//Z-stacks//Arabidopsis t0 1.tif',\n",
    "            output_name='Results starch',\n",
    "            batch_size=40,\n",
    "            detector_config_path='Applications//Configs//INSTANCE_mask2former_swin-s.py',\n",
    "            detector_weight_path='Applications//Weights//INSTANCE_BOTH_mask2former_swin-s_2023.05.26.pth',\n",
    "            detector_threshold=0.9,\n",
    "            segmentor_config_path='Applications//Configs//SEMANTIC_mask2former_swin-I.py',\n",
    "            segmentor_weight_path='Applications//Weights//SEMANTIC_BOTH_mask2former_swin-I_2023.05.27.pth',\n",
    "            concatenate_excels=True).gcstarch3d('..//Data//Z-stacks//Trial 2//Trial 2 Replicate 1 EON-2hRL 4.tif')\n",
    "\n",
    "starch_GC1_zxy, starch_GC2_zxy, stack_zxy , scale_zxy, v_starch_GC1, v_starch_GC2 = result"
   ]
  },
  {
   "cell_type": "code",
   "execution_count": 6,
   "metadata": {
    "collapsed": false,
    "pycharm": {
     "name": "#%%\n"
    }
   },
   "outputs": [
    {
     "name": "stdout",
     "output_type": "stream",
     "text": [
      "starch volume GC1': 28.44020387877546\n",
      "starch volume GC2': 49.183401385804274\n"
     ]
    },
    {
     "data": {
      "text/plain": [
       "<Points layer 'points2' at 0x1d079b17130>"
      ]
     },
     "execution_count": 6,
     "metadata": {},
     "output_type": "execute_result"
    }
   ],
   "source": [
    "import os\n",
    "import napari\n",
    "import numpy as np\n",
    "\n",
    "print(f\"starch volume GC1': {v_starch_GC1}\")\n",
    "print(f\"starch volume GC2': {v_starch_GC2}\")\n",
    "\n",
    "points1 = np.array([[15, 10]])\n",
    "points2 = np.array([[10, 40]])\n",
    "features1 = {'starch volume': np.array([v_starch_GC1]), 'guard cell': np.array([1])}\n",
    "features2 = {'starch volume': np.array([v_starch_GC2]), 'guard cell': np.array([2])}\n",
    "\n",
    "text1 = {\n",
    "    'string': 'Guard cell {guard cell} \\n starch volume: {starch volume:.2f} (µm³)',\n",
    "    'size': 10,\n",
    "    'color': 'lightblue',\n",
    "    'translation': np.array([-2, 0]),\n",
    "}\n",
    "text2 = {\n",
    "    'string': 'Guard cell {guard cell} \\n starch volume: {starch volume:.2f} (µm³)',\n",
    "    'size': 10,\n",
    "    'color': 'pink',\n",
    "    'translation': np.array([-2, 0]),\n",
    "}\n",
    "\n",
    "viewer = napari.Viewer()\n",
    "viewer.add_image(stack_zxy, name='raw', scale=scale_zxy)\n",
    "viewer.layers[0].colormap = 'bone'\n",
    "viewer.add_labels(starch_GC1_zxy, name='starch guard cell 1', scale=scale_zxy, opacity=0.5, blending='additive', rendering='translucent')\n",
    "viewer.add_labels(starch_GC2_zxy, name='starch guard cell 2', scale=scale_zxy, opacity=0.5, blending='additive',  rendering='translucent')\n",
    "viewer.add_points(points1, features=features1, text=text1, size=0.5, edge_width=0, edge_width_is_relative=False)\n",
    "viewer.add_points(points2, features=features2, text=text2, size=0.5, edge_width=0, edge_width_is_relative=False)\n",
    "\n"
   ]
  },
  {
   "cell_type": "code",
   "execution_count": 3,
   "metadata": {
    "pycharm": {
     "name": "#%%\n"
    }
   },
   "outputs": [],
   "source": [
    "import os \n",
    "import numpy as np\n",
    "\n",
    "path = 'drive'\n",
    "starch_GC1_zxy = np.load(os.path.join(path, 'starch_GC1_zxy.npy'))\n",
    "starch_GC2_zxy = np.load(os.path.join(path, 'starch_GC2_zxy.npy'))\n",
    "stack_zxy = np.load(os.path.join(path, 'stack_zxy.npy'))\n",
    "scale_zxy = np.load(os.path.join(path, 'scale_zxy.npy'))\n",
    "v_starch_GC1 = np.load(os.path.join(path, 'v_starch_GC1.npy'))\n",
    "v_starch_GC2 = np.load(os.path.join(path, 'v_starch_GC2.npy'))"
   ]
  }
 ],
 "metadata": {
  "accelerator": "GPU",
  "colab": {
   "authorship_tag": "ABX9TyOfKHnvTCBDH4+e3QHwOz5O",
   "collapsed_sections": [
    "iRL-hVqnAjE0"
   ],
   "machine_shape": "hm",
   "mount_file_id": "1ZGD0sNPCemdEHsW06K-UcbC8ALT0sDxX",
   "provenance": []
  },
  "gpuClass": "premium",
  "kernelspec": {
   "display_name": "Python 3 (ipykernel)",
   "language": "python",
   "name": "python3"
  },
  "language_info": {
   "codemirror_mode": {
    "name": "ipython",
    "version": 3
   },
   "file_extension": ".py",
   "mimetype": "text/x-python",
   "name": "python",
   "nbconvert_exporter": "python",
   "pygments_lexer": "ipython3",
   "version": "3.8.17"
  }
 },
 "nbformat": 4,
 "nbformat_minor": 4
}
