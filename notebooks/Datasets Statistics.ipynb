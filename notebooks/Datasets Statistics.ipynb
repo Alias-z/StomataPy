{
 "cells": [
  {
   "cell_type": "markdown",
   "metadata": {
    "jp-MarkdownHeadingCollapsed": true
   },
   "source": [
    "# Get the statistics of StomataPy datasets"
   ]
  },
  {
   "cell_type": "markdown",
   "metadata": {},
   "source": [
    "### List all datasets"
   ]
  },
  {
   "cell_type": "code",
   "execution_count": 1,
   "metadata": {},
   "outputs": [
    {
     "name": "stdout",
     "output_type": "stream",
     "text": [
      "c:\\Users\\zhongyua\\OneDrive\\Academics\\2023 ETH\\Projects\\PhD thesis\\StomataPy\n"
     ]
    }
   ],
   "source": [
    "%cd .."
   ]
  },
  {
   "cell_type": "code",
   "execution_count": 2,
   "metadata": {},
   "outputs": [
    {
     "name": "stdout",
     "output_type": "stream",
     "text": [
      "there are 26 datasets, they are: \n",
      "Yates2018\n",
      "WangRenninger2023\n",
      "Yang2021\n",
      "ThathapalliPrakash2021\n",
      "Li2022\n",
      "Koheler2023\n",
      "Jayakody2017\n",
      "Toda2018\n",
      "Zhu2021\n",
      "Sun2023\n",
      "Sun2021\n",
      "SanteliaLabPeels\n",
      "Pathoumthong2023\n",
      "Fetter2019\n",
      "Dey2023\n",
      "Koheler2024\n",
      "Takagi2023\n",
      "Sultana2021\n",
      "Casado-Garcia2020\n",
      "Li2023\n",
      "Aono2021\n",
      "Meeus2020\n",
      "Toda2021\n",
      "Ferguson2021\n",
      "Meng2023\n",
      "Vofely2019\n"
     ]
    }
   ],
   "source": [
    "from stomatapy.utils.data_statistics import DataStatistics\n",
    "\n",
    "datasets_dirs, datasets_names = DataStatistics().get_processed_dirs()  # get the directories of all processed datasets and their names\n",
    "datasets_names_print = '\\n'.join([str(dataset) for dataset in datasets_names])\n",
    "print(f'there are {len(datasets_names)} datasets, they are: \\n{datasets_names_print}')"
   ]
  },
  {
   "cell_type": "markdown",
   "metadata": {},
   "source": [
    "### Select the species folders"
   ]
  },
  {
   "cell_type": "code",
   "execution_count": 2,
   "metadata": {},
   "outputs": [
    {
     "name": "stdout",
     "output_type": "stream",
     "text": [
      "there are 432 species\n"
     ]
    }
   ],
   "source": [
    "from stomatapy.utils.data_statistics import DataStatistics\n",
    "\n",
    "species_names, species_dirs = DataStatistics().get_species_names()\n",
    "print(f'there are {len(species_names)} species')"
   ]
  },
  {
   "cell_type": "code",
   "execution_count": 2,
   "metadata": {},
   "outputs": [
    {
     "name": "stdout",
     "output_type": "stream",
     "text": [
      "Total masks: 60876, 33596 (55.19 %) out of which is autolabeled\n",
      "Category counts: {'stoma': 6668, 'pavement cell': 50256, 'outer ledge': 880, 'stomatal complex': 3072}\n",
      "slected datasets: ['Vofely2019 - B. spectabilis', 'Fetter2019 - S. multiflorum', 'Fetter2019 - S. serrulata', 'Fetter2019 - C. crinita', 'Fetter2019 - C. crinita', 'Fetter2019 - C. crinita', 'Fetter2019 - C. elegans', 'Vofely2019 - B. fruticosum', 'Fetter2019 - N. antilliana', 'Fetter2019 - G. bijuga', 'Yang2021 - Z. mays', 'Yang2021 - Z. mays', 'Yang2021 - Z. mays', 'Yang2021 - Z. mays', 'Yang2021 - Z. mays', 'Yang2021 - Z. mays', 'Fetter2019 - M. aethiopica', 'Fetter2019 - P. auritum', 'Fetter2019 - P. auritum', 'Fetter2019 - N. membranacea', 'ThathapalliPrakash2021 - S. italica x viridis', 'ThathapalliPrakash2021 - S. italica x viridis', 'ThathapalliPrakash2021 - S. italica x viridis', 'ThathapalliPrakash2021 - S. italica x viridis', 'ThathapalliPrakash2021 - S. italica x viridis', 'ThathapalliPrakash2021 - S. italica x viridis', 'ThathapalliPrakash2021 - S. italica x viridis', 'ThathapalliPrakash2021 - S. italica x viridis', 'ThathapalliPrakash2021 - S. italica x viridis', 'ThathapalliPrakash2021 - S. italica x viridis', 'ThathapalliPrakash2021 - S. italica x viridis', 'ThathapalliPrakash2021 - S. italica x viridis', 'Fetter2019 - Chamaedorea sp', 'Fetter2019 - A. verrucosa', 'Fetter2019 - Q. ellipsoidalis', 'Vofely2019 - P. hydropiper', 'Vofely2019 - P. hydropiper', 'Fetter2019 - R. darienensis', 'Vofely2019 - M. caryophyllacea', 'Vofely2019 - M. caryophyllacea', 'Fetter2019 - S. thelocarpum', 'Fetter2019 - Q. angustifolia', 'Fetter2019 - O. lanceolata', 'Vofely2019 - A. strigosa', 'Fetter2019 - V. ferruginea', 'Fetter2019 - S. terebinthifolius', 'Fetter2019 - M. trifidus', 'Fetter2019 - Q. henryi', 'Vofely2019 - C. jonesii', 'Vofely2019 - C. jonesii', 'Vofely2019 - C. jonesii', 'Vofely2019 - C. cuspidatus', 'Vofely2019 - C. cuspidatus', 'Vofely2019 - C. cuspidatus', 'Vofely2019 - H. vulgare', 'Vofely2019 - H. vulgare', 'Vofely2019 - A. aurea', 'Vofely2019 - A. aurea', 'Vofely2019 - A. aurea', 'Fetter2019 - E. sasythrasa', 'Vofely2019 - S. wallisii', 'Fetter2019 - Q. densiflora', 'Fetter2019 - C. abditus', 'Fetter2019 - T. wilfordii', 'Fetter2019 - T. wilfordii', 'Fetter2019 - L. kirkii', 'Fetter2019 - A. pygmaea', 'Fetter2019 - R. nitida', 'Vofely2019 - T. ohiensis', 'Vofely2019 - T. ohiensis', 'Vofely2019 - T. ohiensis', 'Vofely2019 - T. ohiensis', 'Vofely2019 - T. ohiensis', 'Vofely2019 - T. ohiensis', 'Vofely2019 - T. ohiensis', 'Vofely2019 - T. ohiensis', 'Vofely2019 - T. ohiensis', 'Vofely2019 - T. ohiensis', 'Fetter2019 - C. erumpens', 'Fetter2019 - D. granadensis', 'Fetter2019 - T. cuneata', 'Vofely2019 - B. trigyna', 'Vofely2019 - B. trigyna', 'Vofely2019 - B. trigyna', 'Fetter2019 - T. candolleana', 'Fetter2019 - P. latifolia_(Posoqueria)', 'Vofely2019 - B. suaveolens', 'Fetter2019 - P. latifolia_(Picramnia)', 'Fetter2019 - A. brachycarpa', 'Fetter2019 - Q. borucasana', 'Vofely2019 - N. menziesii', 'Vofely2019 - N. menziesii', 'Vofely2019 - N. menziesii', 'Vofely2019 - N. menziesii', 'Vofely2019 - N. menziesii', 'Fetter2019 - P. undulatum', 'Vofely2019 - M. pteropus', 'Fetter2019 - K. strobilina', 'Fetter2019 - M. denticulata', 'Vofely2019 - R. adiantiformis', 'Fetter2019 - O. marmellensis', 'Fetter2019 - G. princeps', 'Vofely2019 - B. setifera', 'Fetter2019 - P. scandens', 'Vofely2019 - C. mirabilis', 'Vofely2019 - C. mirabilis', 'Vofely2019 - C. mirabilis', 'Vofely2019 - C. mirabilis', 'Vofely2019 - C. mirabilis', 'Vofely2019 - C. mirabilis', 'Fetter2019 - T. clathrata', 'Toda2018 - C. benghalensis', 'Toda2018 - C. benghalensis', 'Toda2018 - C. benghalensis', 'Toda2018 - C. benghalensis', 'Toda2018 - C. benghalensis', 'Toda2018 - C. benghalensis', 'Toda2018 - C. benghalensis', 'Toda2018 - C. benghalensis', 'Toda2018 - C. benghalensis', 'Toda2018 - C. benghalensis', 'Toda2018 - C. benghalensis', 'Vofely2019 - I. repens', 'Vofely2019 - E. latifolius', 'Vofely2019 - A. canadensis', 'Vofely2019 - A. canadensis', 'Vofely2019 - A. canadensis', 'Vofely2019 - A. canadensis', 'Vofely2019 - A. canadensis', 'Fetter2019 - Q. acatenangensis', 'Vofely2019 - R. hypoglossum', 'Fetter2019 - S. mukorossi', 'Fetter2019 - T. angustifolia', 'Vofely2019 - H. platycladum', 'Vofely2019 - J. heldreichii', 'Vofely2019 - J. heldreichii', 'Vofely2019 - J. heldreichii', 'Vofely2019 - A. caudatus', 'Vofely2019 - A. caudatus', 'Fetter2019 - P. salicifolia', 'Vofely2019 - B. macranthum', 'Vofely2019 - B. macranthum', 'Vofely2019 - B. macranthum', 'Fetter2019 - L. panamensis', 'Fetter2019 - P. polyphleba', 'Fetter2019 - Q. corrugata', 'Fetter2019 - O. macrophyllum', 'Fetter2019 - A. purpurea', 'Fetter2019 - N. smithii', 'Vofely2019 - M. spicata', 'Fetter2019 - R. cubana', 'Fetter2019 - R. montana', 'Fetter2019 - O. eggersiana', 'Vofely2019 - A. shawii', 'Fetter2019 - Q. benthamii', 'Vofely2019 - M. uniflorus', 'Fetter2019 - S. weinmannifolius', 'Fetter2019 - S. repens', 'Fetter2019 - L. floribunda', 'Fetter2019 - A. impressa', 'Vofely2019 - H. fulva', 'Vofely2019 - H. fulva', 'Vofely2019 - H. fulva', 'Vofely2019 - H. fulva', 'Vofely2019 - H. fulva', 'Vofely2019 - H. fulva', 'Vofely2019 - H. fulva', 'Vofely2019 - C. minus', 'Vofely2019 - C. minus', 'Vofely2019 - C. minus', 'Vofely2019 - C. marnierana', 'Fetter2019 - O. glaziovii', 'Vofely2019 - V. officinalis', 'Vofely2019 - V. officinalis', 'Vofely2019 - V. officinalis', 'Vofely2019 - V. officinalis', 'Fetter2019 - P. tweedieanum', 'Fetter2019 - V. guianensis', 'Fetter2019 - A. densiflora', 'Fetter2019 - T. gloriensis', 'Vofely2019 - C. wilmottianum', 'Vofely2019 - C. wilmottianum', 'Vofely2019 - C. wilmottianum', 'Vofely2019 - C. wilmottianum', 'Vofely2019 - C. wilmottianum', 'Fetter2019 - O. pretiosa', 'Fetter2019 - T. tuberculata', 'Vofely2019 - S. hispanica', 'Vofely2019 - S. hispanica', 'Vofely2019 - S. hispanica', 'Vofely2019 - S. hispanica', 'Fetter2019 - Trattinicia sp', 'Vofely2019 - R. japonica', 'Vofely2019 - R. japonica', 'Vofely2019 - R. japonica', 'Vofely2019 - R. japonica', 'Vofely2019 - R. japonica', 'Fetter2019 - M. ramentacea', 'Fetter2019 - S. minor', 'Fetter2019 - G. glomerulata', 'Li2022 - A. thaliana', 'Li2022 - A. thaliana', 'Li2022 - A. thaliana', 'Li2022 - A. thaliana', 'Li2022 - A. thaliana', 'Li2022 - A. thaliana', 'Li2022 - A. thaliana', 'Li2022 - A. thaliana', 'Li2022 - A. thaliana', 'Li2022 - A. thaliana', 'Li2022 - A. thaliana', 'Li2022 - A. thaliana', 'Li2022 - A. thaliana', 'Li2022 - A. thaliana', 'Li2022 - A. thaliana', 'Li2022 - A. thaliana', 'Li2022 - A. thaliana', 'Li2022 - A. thaliana', 'Li2022 - A. thaliana', 'Li2022 - A. thaliana', 'Li2022 - A. thaliana', 'Li2022 - A. thaliana', 'Li2022 - A. thaliana', 'Li2022 - A. thaliana', 'Li2022 - A. thaliana', 'Li2022 - A. thaliana', 'Li2022 - A. thaliana', 'Li2022 - A. thaliana', 'Li2022 - A. thaliana', 'Li2022 - A. thaliana', 'Li2022 - A. thaliana', 'Li2022 - A. thaliana', 'Li2022 - A. thaliana', 'Li2022 - A. thaliana', 'Li2022 - A. thaliana', 'Li2022 - A. thaliana', 'Li2022 - A. thaliana', 'Li2022 - A. thaliana', 'Li2022 - A. thaliana', 'Li2022 - A. thaliana', 'Li2022 - A. thaliana', 'Li2022 - A. thaliana', 'Li2022 - A. thaliana', 'Li2022 - A. thaliana', 'Li2022 - A. thaliana', 'Li2022 - A. thaliana', 'Li2022 - A. thaliana', 'Li2022 - A. thaliana', 'Li2022 - A. thaliana', 'Li2022 - A. thaliana', 'Li2022 - A. thaliana', 'Li2022 - A. thaliana', 'Li2022 - A. thaliana', 'Li2022 - A. thaliana', 'Li2022 - A. thaliana', 'Li2022 - A. thaliana', 'Li2022 - A. thaliana', 'Li2022 - A. thaliana', 'Li2022 - A. thaliana', 'Li2022 - A. thaliana', 'Vofely2019 - E. auripilum', 'Vofely2019 - E. auripilum', 'Vofely2019 - E. auripilum', 'Vofely2019 - C. ruber', 'Vofely2019 - C. ruber', 'Vofely2019 - C. ruber', 'Vofely2019 - C. ruber', 'Vofely2019 - C. ruber', 'Vofely2019 - A. sisalana', 'Vofely2019 - A. sisalana', 'Vofely2019 - H. echioides', 'Fetter2019 - P. carpinterae', 'Fetter2019 - P. carpinterae', 'Fetter2019 - P. vulgaris', 'Fetter2019 - P. vulgaris', 'Fetter2019 - P. vulgaris', 'Fetter2019 - P. vulgaris', 'Fetter2019 - O. caudata', 'Fetter2019 - S. cedron', 'Fetter2019 - N. microcarpa', 'Fetter2019 - C. tepejilote', 'Fetter2019 - O. floribunda', 'Fetter2019 - O. floribunda', 'Fetter2019 - P. bipinnatifidum', 'Fetter2019 - P. bipinnatifidum', 'Fetter2019 - C. quezalteca', 'Vofely2019 - Adromischus sp', 'Vofely2019 - Adromischus sp', 'Vofely2019 - P. hasskarlii', 'Vofely2019 - P. hasskarlii', 'Vofely2019 - E. pallescens', 'Vofely2019 - A. carmichaelii', 'Vofely2019 - A. carmichaelii', 'Vofely2019 - A. carmichaelii', 'Vofely2019 - A. carmichaelii', 'Fetter2019 - T. pinnatum', 'Fetter2019 - O. sanderianus', 'Vofely2019 - A. spinosus', 'Vofely2019 - A. spinosus', 'Vofely2019 - A. spinosus', 'Vofely2019 - A. spinosus', 'Vofely2019 - A. spinosus', 'Vofely2019 - A. spinosus', 'Vofely2019 - A. spinosus', 'Vofely2019 - A. spinosus', 'Vofely2019 - A. spinosus', 'Vofely2019 - A. spinosus', 'Vofely2019 - A. spinosus', 'Fetter2019 - O. acutifolia', 'Fetter2019 - S. glomeruliflora', 'Vofely2019 - F. berteroana', 'Vofely2019 - F. berteroana', 'Vofely2019 - F. berteroana', 'Fetter2019 - O. abyssinica', 'Vofely2019 - S. brachycalyx', 'Vofely2019 - S. brachycalyx', 'Vofely2019 - C. longa', 'Vofely2019 - C. longa', 'Vofely2019 - C. longa', 'Fetter2019 - M. apetala', 'Fetter2019 - C. icaco', 'Fetter2019 - C. icaco', 'Fetter2019 - C. cataractarum', 'Fetter2019 - R. borealis', 'Fetter2019 - T. cerasina', 'Fetter2019 - A. dugandii', 'Vofely2019 - E. pulcherrima', 'Fetter2019 - D. piperita', 'Fetter2019 - N. rigida', 'Fetter2019 - A. globiflora', 'Fetter2019 - A. globiflora', 'Fetter2019 - O. atirrensis', 'Vofely2019 - D. bulbifera', 'Vofely2019 - D. bulbifera', 'Fetter2019 - P. selloum', 'Fetter2019 - Q. eugeniifolia', 'Fetter2019 - C. lamontii', 'Vofely2019 - P. elephantotis', 'Fetter2019 - Z. americanum', 'Fetter2019 - Z. americanum', 'Fetter2019 - T. pulverulentum', 'Vofely2019 - S. italica', 'Vofely2019 - S. italica', 'Vofely2019 - S. italica', 'Vofely2019 - O. coronopifolia']\n"
     ]
    }
   ],
   "source": [
    "from stomatapy.utils.data_statistics import DataStatistics\n",
    "\n",
    "selected_jsons = DataStatistics().select_species_folders(pavements_only=True, ensemble_files=True, ensemble_by_modality=False)"
   ]
  },
  {
   "cell_type": "code",
   "execution_count": 3,
   "metadata": {},
   "outputs": [
    {
     "data": {
      "text/plain": [
       "dict_keys(['Fetter2019', 'Vofely2019', 'Casado-Garcia2020', 'SanteliaLabPeels', 'Toda2018', 'Aono2021', 'Yates2018', 'Jayakody2017'])"
      ]
     },
     "execution_count": 3,
     "metadata": {},
     "output_type": "execute_result"
    }
   ],
   "source": [
    "selected_jsons.keys()"
   ]
  },
  {
   "cell_type": "markdown",
   "metadata": {},
   "source": [
    "### What are the image dimensions?"
   ]
  },
  {
   "cell_type": "code",
   "execution_count": 3,
   "metadata": {},
   "outputs": [],
   "source": [
    "test = stats.get_image_dimensions()"
   ]
  },
  {
   "cell_type": "code",
   "execution_count": 5,
   "metadata": {},
   "outputs": [],
   "source": [
    "import numpy as np\n",
    "test2 = np.array(test)"
   ]
  },
  {
   "cell_type": "code",
   "execution_count": 10,
   "metadata": {},
   "outputs": [
    {
     "name": "stdout",
     "output_type": "stream",
     "text": [
      "Width Statistics\n",
      "Minimum Width:  606\n",
      "Maximum Width:  9585\n",
      "Median Width:  1399.0\n",
      "Average Width:  1560.3482142857142\n",
      "\n",
      "Height Statistics\n",
      "Minimum Height:  480\n",
      "Maximum Height:  8883\n",
      "Median Height:  1699.0\n",
      "Average Height:  1707.90625\n"
     ]
    }
   ],
   "source": [
    "# Calculate the area for each set of dimensions\n",
    "dimensions = test2\n",
    "# Widths are in the first column, heights in the second\n",
    "widths = dimensions[:, 0]\n",
    "heights = dimensions[:, 1]\n",
    "\n",
    "# Calculate statistics for widths\n",
    "min_width = np.min(widths)\n",
    "max_width = np.max(widths)\n",
    "median_width = np.median(widths)\n",
    "average_width = np.mean(widths)\n",
    "\n",
    "# Calculate statistics for heights\n",
    "min_height = np.min(heights)\n",
    "max_height = np.max(heights)\n",
    "median_height = np.median(heights)\n",
    "average_height = np.mean(heights)\n",
    "print(\"Width Statistics\")\n",
    "print(\"Minimum Width: \", min_width)\n",
    "print(\"Maximum Width: \", max_width)\n",
    "print(\"Median Width: \", median_width)\n",
    "print(\"Average Width: \", average_width)\n",
    "\n",
    "print(\"\\nHeight Statistics\")\n",
    "print(\"Minimum Height: \", min_height)\n",
    "print(\"Maximum Height: \", max_height)\n",
    "print(\"Median Height: \", median_height)\n",
    "print(\"Average Height: \", average_height)\n",
    "\n"
   ]
  }
 ],
 "metadata": {
  "colab": {
   "provenance": []
  },
  "kernelspec": {
   "display_name": "Python 3 (ipykernel)",
   "language": "python",
   "name": "python3"
  },
  "language_info": {
   "codemirror_mode": {
    "name": "ipython",
    "version": 3
   },
   "file_extension": ".py",
   "mimetype": "text/x-python",
   "name": "python",
   "nbconvert_exporter": "python",
   "pygments_lexer": "ipython3",
   "version": "3.10.14"
  }
 },
 "nbformat": 4,
 "nbformat_minor": 4
}
