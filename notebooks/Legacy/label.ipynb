{
 "cells": [
  {
   "cell_type": "markdown",
   "metadata": {},
   "source": [
    "## Prepare data"
   ]
  },
  {
   "cell_type": "code",
   "execution_count": null,
   "metadata": {
    "collapsed": false,
    "pycharm": {
     "name": "#%%\n"
    }
   },
   "outputs": [],
   "source": [
    "from StomataPy.data_preparation.stomata_data_preparation import Data4Stomata\n",
    "input_dir = 'Data//Lab//Training//Stomata//Peels//Labels'\n",
    "#Data4Stomata(input_dir=input_dir, aim='object detection').data4training()\n",
    "Data4Stomata(input_dir=input_dir, \n",
    "             aim='object detection',\n",
    "             new_width=2560,\n",
    "             new_height=1920,\n",
    "             sahi_slices=3,\n",
    "             sahi_overlap_ratio=0.7).data4training()"
   ]
  },
  {
   "cell_type": "code",
   "execution_count": null,
   "metadata": {},
   "outputs": [],
   "source": [
    "import os\n",
    "input_dir = 'Data//Data//Publications//2017 Jayakody et al//Original'\n",
    "\n"
   ]
  },
  {
   "cell_type": "markdown",
   "metadata": {},
   "source": [
    "## sort pore"
   ]
  },
  {
   "cell_type": "code",
   "execution_count": 1,
   "metadata": {},
   "outputs": [],
   "source": [
    "from stomata_py.core.isat import *\n",
    "input_dir = 'Data//Training//Stomata//Peels//Kidney//Labels'\n",
    "# input_dir = 'Data//Training//Stomata//Peels//Kidney//A.thaliana Sabrina 2-pulse 150 white light missing time points'\n",
    "sort_pore(input_dir)"
   ]
  },
  {
   "cell_type": "code",
   "execution_count": 4,
   "metadata": {},
   "outputs": [
    {
     "name": "stdout",
     "output_type": "stream",
     "text": [
      "Loads checkpoint by local backend from path: mask2former_swin-s-p4-w7-224_8xb2-lsj-50e_coco_20220504_001756-c9d0c4f2.pth\n",
      "1\n",
      "1\n",
      "1\n",
      "1\n",
      "1\n",
      "1\n"
     ]
    }
   ],
   "source": [
    "import os  # interact with the operating system\n",
    "import cv2  # OpenCV\n",
    "import torch  # PyTorch\n",
    "from skimage.measure import label, regionprops  # for using instance segmentation results as detected objects\n",
    "from mmdet.utils import register_all_modules as mmdet_utils_register_all_modules  # register mmdet modules\n",
    "from mmdet.apis import init_detector as mmdet_apis_init_detector  # initialize mmdet model\n",
    "from mmdet.apis import inference_detector as mmdet_apis_inference_detector  # mmdet inference detector\n",
    "\n",
    "class MMDET2ISAT:\n",
    "    \"\"\"Convert mmdet prediction to ISAT json files\"\"\"\n",
    "    def __init__(self,\n",
    "                 input_dir: str,\n",
    "                 output_dir: str,\n",
    "                 instance_detector_config_path: str,\n",
    "                 instance_detector_weight_path: str,\n",
    "                 instance_detector_threshold: float = 0.6,\n",
    "                 ):\n",
    "        self.input_dir = os.path.normpath(input_dir)  # input directory\n",
    "        self.output_dir = os.path.normpath(output_dir)   # output folder name\n",
    "        self.instance_detector_config_path = instance_detector_config_path  # instance segmentation config path\n",
    "        self.instance_detector_weight_path = instance_detector_weight_path  # instance segmentation weight path\n",
    "        self.instance_detector_threshold = instance_detector_threshold  # instance segmentation threshold\n",
    "\n",
    "        device = torch.device('cuda') if torch.cuda.is_available() else torch.device('cpu')  # use GPU if available\n",
    "        image_types = ['.jpg', '.jpeg', '.png', '.tif', '.tiff', '.bmp', '.gif', '.ico', '.jfif', '.webp']  # supported image types\n",
    "        file_names = [name for name in os.listdir(input_dir) if any(name.lower().endswith(file_type) for file_type in image_types)]  # image files only\n",
    "        file_paths = [os.path.join(input_dir, name) for name in file_names]  # get image files paths\n",
    "        self.images = [cv2.cvtColor(cv2.imread(file_path), cv2.COLOR_BGR2RGB) for file_path in file_paths]\n",
    "        \n",
    "        mmdet_utils_register_all_modules(init_default_scope=False)  # initialize mmdet scope\n",
    "        self.instance_detector = mmdet_apis_init_detector(self.instance_detector_config_path, self.instance_detector_weight_path, device=device)  # initialize a instance detector from config file\n",
    "    \n",
    "    def toisat(self):\n",
    "        for image in self.images:\n",
    "            instance_predictions = mmdet_apis_inference_detector(self.instance_detector, image)  # inference image(s) with the instance detector.\n",
    "            instance_indices = [torch.where(instance_predictions.pred_instances.scores > self.instance_detector_threshold)[0]]  # get indices of detected instances\n",
    "            instance_masks = [instance_predictions.pred_instances.masks[instance_indices].cpu().numpy()]  # gte the masks of detected objects\n",
    "            print(len(instance_masks))\n",
    "\n",
    "MMDET2ISAT(input_dir='ISAT_SAM//example//images',\n",
    "           output_dir='ISAT_SAM//example//images',\n",
    "           instance_detector_config_path='mask2former_swin-s-p4-w7-224_8xb2-lsj-50e_coco.py',\n",
    "           instance_detector_weight_path='mask2former_swin-s-p4-w7-224_8xb2-lsj-50e_coco_20220504_001756-c9d0c4f2.pth').toisat()"
   ]
  }
 ],
 "metadata": {
  "colab": {
   "provenance": []
  },
  "kernelspec": {
   "display_name": "Python 3 (ipykernel)",
   "language": "python",
   "name": "python3"
  },
  "language_info": {
   "codemirror_mode": {
    "name": "ipython",
    "version": 3
   },
   "file_extension": ".py",
   "mimetype": "text/x-python",
   "name": "python",
   "nbconvert_exporter": "python",
   "pygments_lexer": "ipython3",
   "version": "3.8.17"
  }
 },
 "nbformat": 4,
 "nbformat_minor": 0
}
