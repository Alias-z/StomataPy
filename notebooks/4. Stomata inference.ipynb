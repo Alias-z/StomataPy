{
 "cells": [
  {
   "cell_type": "markdown",
   "metadata": {
    "id": "U3MaS_6MYjGC",
    "pycharm": {
     "name": "#%% md\n"
    }
   },
   "source": [
    "# **Starch detection from confocal stomatal images - training**\n",
    "\n",
    "Autors: Santelia Lab at ETH Zurich\n",
    "\n",
    "Contact: hongyuan.zhang@usys.ethz.ch"
   ]
  },
  {
   "cell_type": "markdown",
   "metadata": {
    "id": "A5do6svlEHtz",
    "pycharm": {
     "name": "#%% md\n"
    }
   },
   "source": [
    "## Reference\n",
    "[MMDetection](https://github.com/open-mmlab/mmdetection)\n",
    "<br><br>\n",
    "[MMSegmentation](https://github.com/open-mmlab/mmsegmentation)\n",
    "<br><br>\n",
    "[Instance segmentation on COCO benchmark](https://paperswithcode.com/sota/instance-segmentation-on-coco)\n",
    "<br><br>\n",
    "[Semantic segmentation on ADE20K benchmark](https://paperswithcode.com/sota/semantic-segmentation-on-ade20k)\n",
    "<br><br>\n",
    "[Image classification on ImageNet benchmark](https://paperswithcode.com/sota/image-classification-on-imagenet)\n",
    "<br><br>\n",
    "[Masked-attention mask transformer for universal image segmentation (Mask2Former) by Cheng, Bowen, et al., 2022](https://arxiv.org/abs/2112.01527)\n",
    "<br><br>"
   ]
  },
  {
   "cell_type": "code",
   "execution_count": 1,
   "metadata": {},
   "outputs": [
    {
     "name": "stdout",
     "output_type": "stream",
     "text": [
      "c:\\Users\\zhongyua\\OneDrive\\Academics\\2023 ETH\\Projects\\PhD thesis\\StomataPy\n"
     ]
    },
    {
     "name": "stderr",
     "output_type": "stream",
     "text": [
      "03/27/2025 13:23:11 - WARNING - xformers -   A matching Triton is not available, some optimizations will not be enabled.\n",
      "Error caught was: No module named 'triton'\n"
     ]
    },
    {
     "name": "stdout",
     "output_type": "stream",
     "text": [
      "Loads checkpoint by local backend from path: Checkpoints/2024.10.20_seg_rein_dinov2_mask2former/dinov2_segmentor.pth\n",
      "Loads checkpoint by local backend from path: Checkpoints/2025.03.20_Beta_test_n387/dinov2_detector.pth\n",
      "03/27 13:23:30 - mmengine - \u001b[5m\u001b[4m\u001b[33mWARNING\u001b[0m - Failed to search registry with scope \"mmdet\" in the \"function\" registry tree. As a workaround, the current \"function\" registry in \"mmengine\" is used to build instance. This may cause unexpected failure when running the built modules. Please check whether \"mmdet\" is a correct scope, or whether the registry is initialized.\n"
     ]
    },
    {
     "name": "stderr",
     "output_type": "stream",
     "text": [
      "100%|██████████| 20/20 [31:05<00:00, 93.27s/it] \n"
     ]
    },
    {
     "name": "stdout",
     "output_type": "stream",
     "text": [
      "Converting predictions to ISAT JSON files...\n"
     ]
    },
    {
     "name": "stderr",
     "output_type": "stream",
     "text": [
      "100%|██████████| 20/20 [03:15<00:00,  9.75s/it]\n"
     ]
    },
    {
     "name": "stdout",
     "output_type": "stream",
     "text": [
      "03/27 13:58:08 - mmengine - \u001b[5m\u001b[4m\u001b[33mWARNING\u001b[0m - The current default scope \"mmdet\" is not \"mmseg\", `init_default_scope` will force set the currentdefault scope to \"mmseg\".\n",
      "Loads checkpoint by local backend from path: Checkpoints/2024.10.20_seg_rein_dinov2_mask2former/dinov2_segmentor.pth\n",
      "03/27 13:58:18 - mmengine - \u001b[5m\u001b[4m\u001b[33mWARNING\u001b[0m - The current default scope \"mmseg\" is not \"mmdet\", `init_default_scope` will force set the currentdefault scope to \"mmdet\".\n",
      "Loads checkpoint by local backend from path: Checkpoints/2025.03.20_Beta_test_n387/dinov2_detector.pth\n"
     ]
    },
    {
     "name": "stderr",
     "output_type": "stream",
     "text": [
      "100%|██████████| 14/14 [25:54<00:00, 111.04s/it]\n"
     ]
    },
    {
     "name": "stdout",
     "output_type": "stream",
     "text": [
      "Converting predictions to ISAT JSON files...\n"
     ]
    },
    {
     "name": "stderr",
     "output_type": "stream",
     "text": [
      "100%|██████████| 14/14 [06:04<00:00, 26.00s/it]\n"
     ]
    },
    {
     "name": "stdout",
     "output_type": "stream",
     "text": [
      "Loads checkpoint by local backend from path: Checkpoints/2024.10.20_seg_rein_dinov2_mask2former/dinov2_segmentor.pth\n",
      "Loads checkpoint by local backend from path: Checkpoints/2025.03.20_Beta_test_n387/dinov2_detector.pth\n"
     ]
    },
    {
     "name": "stderr",
     "output_type": "stream",
     "text": [
      "100%|██████████| 20/20 [36:02<00:00, 108.12s/it]\n"
     ]
    },
    {
     "name": "stdout",
     "output_type": "stream",
     "text": [
      "Converting predictions to ISAT JSON files...\n"
     ]
    },
    {
     "name": "stderr",
     "output_type": "stream",
     "text": [
      "100%|██████████| 20/20 [03:29<00:00, 10.48s/it]\n"
     ]
    },
    {
     "name": "stdout",
     "output_type": "stream",
     "text": [
      "Loads checkpoint by local backend from path: Checkpoints/2024.10.20_seg_rein_dinov2_mask2former/dinov2_segmentor.pth\n",
      "Loads checkpoint by local backend from path: Checkpoints/2025.03.20_Beta_test_n387/dinov2_detector.pth\n"
     ]
    },
    {
     "name": "stderr",
     "output_type": "stream",
     "text": [
      "0it [00:00, ?it/s]\n"
     ]
    },
    {
     "name": "stdout",
     "output_type": "stream",
     "text": [
      "Converting predictions to ISAT JSON files...\n"
     ]
    },
    {
     "name": "stderr",
     "output_type": "stream",
     "text": [
      "0it [00:00, ?it/s]\n"
     ]
    },
    {
     "name": "stdout",
     "output_type": "stream",
     "text": [
      "Loads checkpoint by local backend from path: Checkpoints/2024.10.20_seg_rein_dinov2_mask2former/dinov2_segmentor.pth\n",
      "Loads checkpoint by local backend from path: Checkpoints/2025.03.20_Beta_test_n387/dinov2_detector.pth\n"
     ]
    },
    {
     "name": "stderr",
     "output_type": "stream",
     "text": [
      "100%|██████████| 14/14 [25:55<00:00, 111.11s/it]\n"
     ]
    },
    {
     "name": "stdout",
     "output_type": "stream",
     "text": [
      "Converting predictions to ISAT JSON files...\n"
     ]
    },
    {
     "name": "stderr",
     "output_type": "stream",
     "text": [
      "100%|██████████| 14/14 [01:55<00:00,  8.27s/it]\n"
     ]
    }
   ],
   "source": [
    "%cd ..\n",
    "\n",
    "import os\n",
    "from stomatapy.models.openmmlab import OpenMMlab\n",
    "from stomatapy.core.core import get_paths\n",
    "\n",
    "# root = 'Datasets/Beta_test/Bobby Caine/Sine Arabidopsis images'\n",
    "root = 'Datasets/Beta_test/Bobby Caine/Safia tree images'\n",
    "\n",
    "for subfolder in os.listdir(root):\n",
    "    if subfolder == 'demo':\n",
    "        continue\n",
    "    input_dir = os.path.join(root, subfolder)\n",
    "    image_paths = get_paths(input_dir, file_extension='.tif')  + get_paths(input_dir, '.jpeg') + get_paths(input_dir, '.jpg') + get_paths(input_dir, '.png') + get_paths(input_dir, '.avi')  + get_paths(input_dir, '.bmp') \n",
    "    json_paths = [os.path.splitext(image_path)[0] + '.json' for image_path in image_paths]\n",
    "\n",
    "    models = OpenMMlab(\n",
    "            detector_config_path='train/config/det_rein_dinov2_mask2former.py',\n",
    "            detector_weight_path='Checkpoints/2025.03.20_Beta_test_n387/dinov2_detector.pth',\n",
    "            detector_threshold=0.9,\n",
    "            segmentor_config_path='Checkpoints/2024.10.20_seg_rein_dinov2_mask2former/seg_rein_dinov2_mask2former_colab.py',\n",
    "            segmentor_weight_path='Checkpoints/2024.10.20_seg_rein_dinov2_mask2former/dinov2_segmentor.pth',\n",
    "            use_sahi=True,\n",
    "            stack_input=True,\n",
    "            check_straight_edges=True,\n",
    "            straight_line_threshold=200\n",
    "            )\n",
    "\n",
    "    test = models.detect_cell(image_paths, if_visualize=False, if_auto_label=True)"
   ]
  },
  {
   "cell_type": "markdown",
   "metadata": {
    "id": "paeXlngsEHt2",
    "pycharm": {
     "name": "#%% md\n"
    }
   },
   "source": [
    "### check GPU availability"
   ]
  },
  {
   "cell_type": "code",
   "execution_count": 1,
   "metadata": {},
   "outputs": [
    {
     "name": "stdout",
     "output_type": "stream",
     "text": [
      "c:\\Users\\zhongyua\\OneDrive\\Academics\\2023 ETH\\Projects\\PhD thesis\\StomataPy\n"
     ]
    }
   ],
   "source": [
    "%cd .."
   ]
  },
  {
   "cell_type": "code",
   "execution_count": 4,
   "metadata": {},
   "outputs": [
    {
     "name": "stdout",
     "output_type": "stream",
     "text": [
      "Loads checkpoint by local backend from path: Checkpoints/2024.10.20_seg_rein_dinov2_mask2former/dinov2_segmentor.pth\n",
      "Loads checkpoint by local backend from path: Checkpoints/2025.03.20_Beta_test_n387/dinov2_detector.pth\n"
     ]
    },
    {
     "name": "stderr",
     "output_type": "stream",
     "text": [
      "100%|██████████| 1/1 [00:10<00:00, 10.97s/it]\n"
     ]
    },
    {
     "name": "stdout",
     "output_type": "stream",
     "text": [
      "Converting predictions to ISAT JSON files...\n"
     ]
    },
    {
     "name": "stderr",
     "output_type": "stream",
     "text": [
      "100%|██████████| 1/1 [00:00<00:00,  4.35it/s]\n"
     ]
    }
   ],
   "source": [
    "import os\n",
    "from stomatapy.models.openmmlab import OpenMMlab\n",
    "from stomatapy.core.core import get_paths\n",
    "\n",
    "input_dir = 'Datasets/Beta_test/Didier Le Thiec/poplar/poplar_set2_test'\n",
    "# input_dir = 'Datasets/Beta_test/Xiaojuan Wang/set1_test'\n",
    "# input_dir = 'Datasets/Beta_test/Bobby Caine/Safia tree images'\n",
    "# input_dir = 'Datasets/Beta_test/Alex Costa/demo_confocal'\n",
    "# input_dir = 'Datasets/Beta_test/Heidelberg/ISAT_Training2'\n",
    "# input_dir = 'Datasets/Beta_test/Tian Zhang/staining_test_1'\n",
    "# input_dir = 'Datasets//Beta_test//Heidelberg//set4_test'\n",
    "# input_dir = 'Datasets/Beta_test/Emilio Petrone/40X'\n",
    "# input_dir = 'Datasets/Beta_test/Hana Horak/videos'\n",
    "# input_dir = 'Datasets/Beta_test/Micheal Rasissig/demo'\n",
    "input_dir = 'Datasets/WangRenninger2023/Processed/V. stamineum'\n",
    "\n",
    "image_paths = get_paths(input_dir, file_extension='.tif')  + get_paths(input_dir, '.jpeg') + get_paths(input_dir, '.jpg') + get_paths(input_dir, '.png') + get_paths(input_dir, '.avi') \n",
    "json_paths = [os.path.splitext(image_path)[0] + '.json' for image_path in image_paths]\n",
    "\n",
    "models = OpenMMlab(\n",
    "            detector_config_path='train/config/det_rein_dinov2_mask2former.py',\n",
    "            detector_weight_path='Checkpoints/2025.03.20_Beta_test_n387/dinov2_detector.pth',\n",
    "            detector_threshold=0.9,\n",
    "            segmentor_config_path='Checkpoints/2024.10.20_seg_rein_dinov2_mask2former/seg_rein_dinov2_mask2former_colab.py',\n",
    "            segmentor_weight_path='Checkpoints/2024.10.20_seg_rein_dinov2_mask2former/dinov2_segmentor.pth',\n",
    "            use_sahi=True,\n",
    "            stack_input=False,\n",
    "            check_straight_edges=True,\n",
    "            straight_line_threshold=100\n",
    "        )\n",
    "\n",
    "test = models.detect_cell(image_paths, if_visualize=False, if_auto_label=True)"
   ]
  },
  {
   "cell_type": "code",
   "execution_count": 6,
   "metadata": {},
   "outputs": [
    {
     "name": "stderr",
     "output_type": "stream",
     "text": [
      "100%|██████████| 2/2 [00:25<00:00, 12.88s/it]\n"
     ]
    }
   ],
   "source": [
    "_ = models.segment_cell(json_paths, if_visualize=False, if_auto_label=True, resize_to=(2048, 2048))"
   ]
  },
  {
   "cell_type": "code",
   "execution_count": 1,
   "metadata": {},
   "outputs": [
    {
     "name": "stdout",
     "output_type": "stream",
     "text": [
      "c:\\Users\\zhongyua\\OneDrive\\Academics\\2023 ETH\\Projects\\PhD thesis\\StomataPy\n"
     ]
    }
   ],
   "source": [
    "%cd .."
   ]
  },
  {
   "cell_type": "code",
   "execution_count": null,
   "metadata": {},
   "outputs": [],
   "source": [
    "\n",
    "import os\n",
    "from stomatapy.utils.isat2excel import json2excel\n",
    "\n",
    "input_dir = 'Datasets/Beta_test/Bobby Caine/Yixiang RB tomato leaf impression/rawdata/focus_optimized'\n",
    "output_dir = os.path.join(input_dir, 'predictions')\n",
    "test = json2excel(input_dir, output_dir, scale=1/0.401) "
   ]
  },
  {
   "cell_type": "markdown",
   "metadata": {
    "id": "LtUf885HCl2I"
   },
   "source": [
    "## inference"
   ]
  },
  {
   "cell_type": "code",
   "execution_count": 1,
   "metadata": {},
   "outputs": [
    {
     "name": "stdout",
     "output_type": "stream",
     "text": [
      "\n",
      "      _____ ____ ____  ______   ___ _     ____  ____      _      ____ ____  \n",
      "     / ___//    |    \\|      | /  _| |   |    |/    |    | |    /    |    \\ \n",
      "    (   \\_|  o  |  _  |      |/  [_| |    |  ||  o  |    | |   |  o  |  o  )\n",
      "     \\__  |     |  |  |_|  |_|    _| |___ |  ||     |    | |___|     |     |\n",
      "     /  \\ |  _  |  |  | |  | |   [_|     ||  ||  _  |    |     |  _  |  O  |\n",
      "     \\    |  |  |  |  | |  | |     |     ||  ||  |  |    |     |  |  |     |\n",
      "      \\___|__|__|__|__| |__| |_____|_____|____|__|__|    |_____|__|__|_____|\n",
      "    \n",
      "\n",
      " \u001b[34m Done! \n",
      "\n",
      "\u001b[34m processed 0 images in 0.0 min\n",
      "\u001b[34m detected 0 stomata and measured 0 stomata\n",
      "\n",
      " \n",
      " \u001b[31m there is no image provided any use in this run; please check the following possibilities:\n",
      "\n",
      " 1. check if your input directory is correct\n",
      "\n",
      " 2. maybe you forgot to put the \"scale.txt\" file in your folder?\n",
      "\n",
      " 3. is the image quality good enough?\n",
      "\n",
      " 4. are image formats not supported? currently the program supports \n",
      " ['.jpg', '.jpeg', '.png', '.tif', '.tiff', '.bmp', '.gif', '.ico', '.jfif', '.webp']\n"
     ]
    }
   ],
   "source": [
    "from stomata_py.inference_api.stomata_inference import StomataSeeker\n",
    "StomataSeeker(input_dir='Data//Trial 2',\n",
    "              output_name='Results aperture',\n",
    "              batch_size=20,\n",
    "              concatenate_excels=True,\n",
    "              ensemble_detectors=False,\n",
    "              object_detector_config_path='Applications/Configs/OBJECT_Stomata_dino_swin-l.py',\n",
    "              object_detector_weight_path='Applications/Weights/OBJECT_Stomata_dino_swin-l_2023August13.pth',\n",
    "              object_detector_threshold=0.2,\n",
    "              instance_detector_config_path='Applications/Configs/INSTANCE_Stomata_mask2former_swin-s.py',\n",
    "              instance_detector_weight_path='Applications/Weights/INSTANCE_Stomata_mask2former_swin-s_2023August13.pth',\n",
    "              instance_detector_threshold=0.6,\n",
    "              segmentor_config_path='Applications/Configs/SEGMENTATION_Stomata_mask2former_swin-I.py',\n",
    "              segmentor_weight_path='Applications/Weights/SEGMENTATION_Stomata_mask2former_swin-I_2023August15.pth').batch_predict()"
   ]
  },
  {
   "cell_type": "markdown",
   "metadata": {},
   "source": [
    "## inference stomata annotations"
   ]
  },
  {
   "cell_type": "code",
   "execution_count": null,
   "metadata": {},
   "outputs": [],
   "source": [
    "import copy\n",
    "from stomata_py.core.core import *\n",
    "from stomata_py.core.stomata_traits import best_distance\n",
    "import pandas as pd\n",
    "from matplotlib import pyplot as plt\n",
    "from tqdm import tqdm\n",
    "\n",
    "def get_aperture(seg_mask):\n",
    "    a_pore = len(np.where(np.all(seg_mask == Stomata_Colors[3].mask_rgb, axis=-1))[0])  # pore area\n",
    "    a_outer_ledge = len(np.where(np.all(seg_mask == Stomata_Colors[2].mask_rgb, axis=-1))[0]) + a_pore  # outer ledge area\n",
    "    a_stomata = len(np.where(np.all(seg_mask == Stomata_Colors[1].mask_rgb, axis=-1))[0]) + a_outer_ledge  # stomata area\n",
    "    stomata_pixel_ratio = a_stomata / seg_mask.shape[0] / seg_mask.shape[1] * 100  # as a quality check metric\n",
    "    a_pore_absolute = a_pore * (1 / 8.0) ** 2  # pore area in square micrometer\n",
    "    a_outer_ledge_absolute = a_outer_ledge * (1 / 8.0) ** 2  # outer ledge area in square micrometer\n",
    "    a_stomata_absolute = a_stomata * (1 / 8.0) ** 2  # stomata area in square micrometer\n",
    "    return [a_pore_absolute, a_outer_ledge_absolute, a_stomata_absolute, stomata_pixel_ratio]\n",
    "\n",
    "def text4name(patch_stitched, patch_name):\n",
    "    text_image = np.zeros((80, patch_stitched.shape[1], 3), np.uint8)  # create a black image with the same width as the concatenated image for writing text\n",
    "    font_scale, font_color, line_type, font = 0.6, (255, 255, 255), 2, cv2.FONT_HERSHEY_SIMPLEX  # noqa: define the font and line type\n",
    "    (text_width, text_height) = cv2.getTextSize(patch_name, font, font_scale, line_type)[0]\n",
    "    text_x = (text_image.shape[1] - text_width) // 2  # text x coordinate\n",
    "    text_y = (text_image.shape[0] + text_height) // 2  # text y coordinate\n",
    "    cv2.putText(text_image, patch_name, (text_x, text_y), font, font_scale, font_color, line_type)  # write the text to the image\n",
    "    return cv2.vconcat([text_image, patch_stitched])\n",
    "\n",
    "\n",
    "batch_results = pd.DataFrame(columns=['image name', 'image height', 'image width', 'scale (pixels/\\u03BCm)', 'stomata lenghth (\\u03BCm)', 'stomata width (\\u03BCm)',\n",
    "                                    'outer_ledge lenghth (\\u03BCm)', 'outer_ledge width (\\u03BCm)', 'stomata area (\\u03BCm\\N{SUPERSCRIPT TWO})', 'outer ledge area (\\u03BCm\\N{SUPERSCRIPT TWO})',\n",
    "                                    'pore area (\\u03BCm\\N{SUPERSCRIPT TWO})', 'openness (%)'])\n",
    "\n",
    "images_dir = 'Data//Training//Stomata//Peels//Stomata_mmseg//images'\n",
    "masks_dir = 'Data//Training//Stomata//Peels//Stomata_mmseg//labels'\n",
    "output_dir = 'Data//Training//Stomata//Peels//Stomata_mmseg//results'\n",
    "os.makedirs(output_dir, exist_ok=True)\n",
    "\n",
    "image_names = sorted(os.listdir(images_dir), key=str.casefold)\n",
    "image_names = [name for name in image_names if any(name.lower().endswith(file_type) for file_type in image_types)]\n",
    "image_paths = [os.path.join(images_dir, name) for name in image_names]\n",
    "mask_paths = [os.path.join(masks_dir, name) for name in image_names]\n",
    "\n",
    "\n",
    "for idx, image_path in tqdm(enumerate(image_paths), total=len(image_paths)):\n",
    "\n",
    "    image = imread_rgb(image_paths[idx])\n",
    "    seg_mask = imread_rgb(mask_paths[idx])\n",
    "\n",
    "    refined_seg_mask = np.zeros((*seg_mask.shape[:2], 3), dtype=np.uint8)  # create a black image\n",
    "    stomata_region = binary(color_select(seg_mask, seg_mask, Stomata_Colors[1].mask_rgb))\n",
    "    ol_region = binary(color_select(seg_mask, seg_mask, Stomata_Colors[2].mask_rgb))\n",
    "    pore_region = binary(color_select(seg_mask, seg_mask, Stomata_Colors[3].mask_rgb))\n",
    "    refined_seg_mask[pore_region == 255] = Stomata_Colors[1].mask_rgb\n",
    "    refined_seg_mask[ol_region == 255] = Stomata_Colors[1].mask_rgb  \n",
    "    refined_seg_mask[stomata_region == 255] = Stomata_Colors[1].mask_rgb \n",
    "\n",
    "    stomata_contour, _ = cv2.findContours(binary(refined_seg_mask), cv2.RETR_EXTERNAL, cv2.CHAIN_APPROX_TC89_L1)\n",
    "\n",
    "    refined_seg_mask = np.zeros((*seg_mask.shape[:2], 3), dtype=np.uint8)  # create a black image\n",
    "    stomata_region = binary(color_select(seg_mask, seg_mask, Stomata_Colors[1].mask_rgb))\n",
    "    ol_region = binary(color_select(seg_mask, seg_mask, Stomata_Colors[2].mask_rgb))\n",
    "    pore_region = binary(color_select(seg_mask, seg_mask, Stomata_Colors[3].mask_rgb))\n",
    "    refined_seg_mask[pore_region == 255] = Stomata_Colors[1].mask_rgb\n",
    "    refined_seg_mask[ol_region == 255] = Stomata_Colors[1].mask_rgb  \n",
    "\n",
    "    ol_contour, _ = cv2.findContours(binary(refined_seg_mask), cv2.RETR_EXTERNAL, cv2.CHAIN_APPROX_TC89_L1)\n",
    "\n",
    "    ol_contour_mask = np.zeros((*seg_mask.shape[:2], 3), dtype=np.uint8)  # create a black image\n",
    "    cv2.drawContours(ol_contour_mask, ol_contour, -1, (255, 255, 255), 1)  # draw the outer ledge contour\n",
    "    stomata_contour_mask = copy.deepcopy(ol_contour_mask)  # make a copy of the outer ledge contour\n",
    "    cv2.drawContours(stomata_contour_mask, stomata_contour, -1, (255, 255, 255), 1)  # draw the stomata contour\n",
    "    cv2.imwrite(os.path.join(output_dir, image_names[idx]), cv2.cvtColor(stomata_contour_mask, cv2.COLOR_RGB2BGR))\n",
    "    \n",
    "    stomata_lenghth_pixel, stomata_width_pixel, stomata_trait = best_distance(stomata_contour_mask)\n",
    "    ol_lenghth_pixel, ol_width_pixel, ol_trait = best_distance(ol_contour_mask)\n",
    "    stomata_lenghth, stomata_width = stomata_lenghth_pixel * (1 / 8.0), stomata_width_pixel * (1 / 8.0) \n",
    "    ol_lenghth, ol_width = ol_lenghth_pixel * (1 / 8.0), ol_width_pixel * (1 / 8.0)\n",
    "    patch_stitched = np.hstack((image , seg_mask, stomata_trait, ol_trait))\n",
    "    patch_stitched = text4name(patch_stitched, image_names[idx])\n",
    "    #cv2.imwrite(os.path.join(output_dir, image_names[idx]), cv2.cvtColor(patch_stitched, cv2.COLOR_RGB2BGR)) \n",
    "    \n",
    "    a_pore_absolute, a_ol_absolute, a_stomata_absolute, stomata_pixel_ratio = get_aperture(seg_mask)\n",
    "\n",
    "    result = {'image name': [image_names[idx]],\n",
    "            'image height': [image.shape[0]],\n",
    "            'image width': [image.shape[1]],\n",
    "            'scale (pixels/\\u03BCm)': [8.0],\n",
    "            'stomata lenghth (\\u03BCm)': [stomata_lenghth],\n",
    "            'stomata width (\\u03BCm)': [stomata_width],\n",
    "            'outer ledge lenghth (\\u03BCm)': [ol_lenghth],\n",
    "            'outer ledge width (\\u03BCm)': [ol_width],\n",
    "            'stomata area (\\u03BCm\\N{SUPERSCRIPT TWO})': [a_stomata_absolute],\n",
    "            'outer ledge area (\\u03BCm\\N{SUPERSCRIPT TWO})': [a_ol_absolute],\n",
    "            'pore area (\\u03BCm\\N{SUPERSCRIPT TWO})': [a_pore_absolute],\n",
    "            'openness (%)': [a_ol_absolute / a_stomata_absolute * 100]}\n",
    "    result = pd.DataFrame(data=result)\n",
    "    batch_results = pd.concat([batch_results, result], axis=0) \n",
    "batch_results.to_excel(os.path.join(output_dir, 'stomata aperture.xlsx'), index=False)\n",
    " "
   ]
  },
  {
   "cell_type": "code",
   "execution_count": null,
   "metadata": {},
   "outputs": [],
   "source": [
    "import os\n",
    "from tqdm import tqdm\n",
    "from stomata_py.core.core import imread_rgb\n",
    "from stomata_py.core.stomata_traits_2 import GetDiameter\n",
    "\n",
    "input_dir = 'Data//Training//Stomata//Peels//Stomata_mmseg//results2'\n",
    "file_names = os.listdir(input_dir)\n",
    "file_paths = [os.path.join(input_dir, file_name) for file_name in file_names]\n",
    "masks = [imread_rgb(file_path) for file_path in file_paths]\n",
    "\n",
    "for mask in tqdm(masks, total=len(masks)):\n",
    "    stomata_lenghth, stomata_width, angle = GetDiameter(mask, shrink_ratio=1.2, line_thickness=3).pca(show_result=True)\n"
   ]
  },
  {
   "cell_type": "markdown",
   "metadata": {},
   "source": [
    "## inference starch"
   ]
  },
  {
   "cell_type": "code",
   "execution_count": null,
   "metadata": {},
   "outputs": [],
   "source": [
    "from stomata_py.inference_api.starch_inference import StarchSeeker\n",
    "\n",
    "StarchSeeker(input_dir='Data//Testing//Starch//Kidney//Lucia ERC 04_2021 N. exaltata Blue Light',\n",
    "            output_name='Results starch',\n",
    "            batch_size=40,\n",
    "            detector_config_path='Applications//Configs//INSTANCE_mask2former_swin-s.py',\n",
    "            detector_weight_path='Applications//Weights//INSTANCE_BOTH_mask2former_swin-s_2023.05.26.pth',\n",
    "            detector_threshold=0.9,\n",
    "            segmentor_config_path='Applications//Configs//SEMANTIC_mask2former_swin-I.py',\n",
    "            segmentor_weight_path='Applications//Weights//SEMANTIC_BOTH_mask2former_swin-I_2023.05.27.pth',\n",
    "            concatenate_excels=True).bacth_predict()"
   ]
  }
 ],
 "metadata": {
  "accelerator": "GPU",
  "colab": {
   "collapsed_sections": [
    "J2OtvBLRa2D3",
    "H0sxjxbvfWMb",
    "nyr4y8aiw4oK",
    "egEeiRr9uAj8",
    "833D0mbi-Mqz",
    "gEptYWuD8qjq",
    "gz5wcgGScwPi",
    "77_vyR9TC4p-",
    "sbFmyqnaiSaj",
    "gd9k1MHvooJ5"
   ],
   "gpuClass": "premium",
   "gpuType": "A100",
   "machine_shape": "hm",
   "provenance": []
  },
  "gpuClass": "premium",
  "kernelspec": {
   "display_name": "stomatapy",
   "language": "python",
   "name": "python3"
  },
  "language_info": {
   "codemirror_mode": {
    "name": "ipython",
    "version": 3
   },
   "file_extension": ".py",
   "mimetype": "text/x-python",
   "name": "python",
   "nbconvert_exporter": "python",
   "pygments_lexer": "ipython3",
   "version": "3.10.14"
  }
 },
 "nbformat": 4,
 "nbformat_minor": 0
}
